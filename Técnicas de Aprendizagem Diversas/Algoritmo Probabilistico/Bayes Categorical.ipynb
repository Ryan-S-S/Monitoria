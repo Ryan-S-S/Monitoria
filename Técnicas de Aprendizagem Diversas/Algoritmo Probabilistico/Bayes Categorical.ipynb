{
 "cells": [
  {
   "cell_type": "markdown",
   "id": "eb1b2a6e",
   "metadata": {},
   "source": [
    "## Naives Bayes Categorico\n",
    "Neste exemplo, o modelo gerador é Categorico, no qual os dados assumem uma distribuição Multinomial ou distribuição Categórica.\n",
    "\n",
    "- Teremos que converter as entradas categoricas (ensolarado, chuvoso, nublado) para valores numericos (0,1,2)."
   ]
  },
  {
   "cell_type": "code",
   "execution_count": 1,
   "id": "dd0e7d46",
   "metadata": {},
   "outputs": [],
   "source": [
    "import numpy as np\n",
    "from sklearn.preprocessing import OrdinalEncoder\n",
    "from sklearn.naive_bayes import CategoricalNB"
   ]
  },
  {
   "cell_type": "code",
   "execution_count": 2,
   "id": "ae6b3a1d",
   "metadata": {},
   "outputs": [],
   "source": [
    "# Dados de entrada (tempo, umidade)\n",
    "X = [\n",
    "    [\"ensolarado\", \"alta\"],\n",
    "    [\"ensolarado\", \"alta\"],\n",
    "    [\"nublado\", \"alta\"],\n",
    "    [\"chuvoso\", \"normal\"],\n",
    "    [\"chuvoso\", \"normal\"],\n",
    "    [\"chuvoso\", \"alta\"],\n",
    "    [\"nublado\", \"normal\"],\n",
    "    [\"ensolarado\", \"normal\"],\n",
    "    [\"ensolarado\", \"normal\"],\n",
    "    [\"chuvoso\", \"normal\"],\n",
    "]\n",
    "\n",
    "# Variavel alvo (se vai jogar futebol)\n",
    "y = [\"não\", \"não\", \"sim\", \"sim\", \"sim\", \"não\", \"sim\", \"sim\", \"sim\", \"sim\"]"
   ]
  },
  {
   "cell_type": "code",
   "execution_count": 3,
   "id": "d90f9bb2",
   "metadata": {},
   "outputs": [],
   "source": [
    "# Codifica os dados categoricos em numeros\n",
    "encoder = OrdinalEncoder()\n",
    "X_encoded = encoder.fit_transform(X)\n",
    "\n",
    "# Codifica os labels tambem (sim = 1, não = 0)\n",
    "y_encoded = np.array([1 if i == \"sim\" else 0 for i in y])"
   ]
  },
  {
   "cell_type": "code",
   "execution_count": 4,
   "id": "0e976a80",
   "metadata": {},
   "outputs": [
    {
     "name": "stdout",
     "output_type": "stream",
     "text": [
      "Previsão para ['nublado', 'alta']: sim\n"
     ]
    }
   ],
   "source": [
    "# Cria e treina o modelo\n",
    "modelo = CategoricalNB()\n",
    "modelo.fit(X_encoded, y_encoded)\n",
    "\n",
    "# Preve um novo exemplo\n",
    "exemplo = [[\"nublado\", \"alta\"]]\n",
    "exemplo_encoded = encoder.transform(exemplo)\n",
    "prev = modelo.predict(exemplo_encoded)\n",
    "\n",
    "print(f\"Previsão para {exemplo[0]}: {'sim' if prev[0] == 1 else 'não'}\")"
   ]
  }
 ],
 "metadata": {
  "kernelspec": {
   "display_name": "env",
   "language": "python",
   "name": "python3"
  },
  "language_info": {
   "codemirror_mode": {
    "name": "ipython",
    "version": 3
   },
   "file_extension": ".py",
   "mimetype": "text/x-python",
   "name": "python",
   "nbconvert_exporter": "python",
   "pygments_lexer": "ipython3",
   "version": "3.13.3"
  }
 },
 "nbformat": 4,
 "nbformat_minor": 5
}
