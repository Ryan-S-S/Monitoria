{
  "cells": [
    {
      "cell_type": "markdown",
      "metadata": {
        "id": "WlBkpHQMOXk_"
      },
      "source": [
        "## Naives Bayes\n",
        "Nesta classificação, a ideia básica é encontrar a probabilidade de um rótulo (R-Classe) dadas algumas características observadas, que possível é escrever como P(R|Caracteristicas).\n",
        "\n",
        "\n",
        "    > P(R|Caracteristicas) = P(caracteristicas | R)P(R) / P(Caracteristicas)\n",
        "\n",
        "Assim é possivel calcular P(R|Caracteristicas i) para cada rótulo. Esse modelo é chamado de Gerador porque especifica o processo que gera os dados. Especificar esse modelo de gerador para cada rótulo é a parte principal do treinamento do Naive Bayes.\n",
        "\n",
        "- Modelo gerador desse algoritmo é Gaussiano, no qual os dados seguem uma distribuição Gaussiana.\n"
      ]
    },
    {
      "cell_type": "code",
      "execution_count": 1,
      "metadata": {
        "id": "MOAJxea04yEG"
      },
      "outputs": [],
      "source": [
        "import pandas as pd\n",
        "from sklearn.naive_bayes import GaussianNB\n",
        "from sklearn import tree\n",
        "from sklearn.datasets import load_iris\n",
        "from sklearn.model_selection import train_test_split, cross_val_score"
      ]
    },
    {
      "cell_type": "code",
      "execution_count": 2,
      "metadata": {
        "colab": {
          "base_uri": "https://localhost:8080/"
        },
        "id": "DAEwWSBx42oZ",
        "outputId": "3549e2da-ed71-490e-95aa-216b70d2a435"
      },
      "outputs": [],
      "source": [
        "from sklearn.datasets import load_wine\n",
        "# Carrega o Dataset\n",
        "input_data = load_wine()\n",
        "\n",
        "# Separa os dados e as labels\n",
        "data = input_data['data']\n",
        "labels = input_data['target']"
      ]
    },
    {
      "cell_type": "code",
      "execution_count": 3,
      "metadata": {
        "colab": {
          "base_uri": "https://localhost:8080/"
        },
        "id": "iC_76f1XYSYK",
        "outputId": "cf068316-a216-441a-e6f7-61df58549f96"
      },
      "outputs": [
        {
          "data": {
            "text/plain": [
              "array([0, 0, 0, 0, 0, 0, 0, 0, 0, 0, 0, 0, 0, 0, 0, 0, 0, 0, 0, 0, 0, 0,\n",
              "       0, 0, 0, 0, 0, 0, 0, 0, 0, 0, 0, 0, 0, 0, 0, 0, 0, 0, 0, 0, 0, 0,\n",
              "       0, 0, 0, 0, 0, 0, 0, 0, 0, 0, 0, 0, 0, 0, 0, 1, 1, 1, 1, 1, 1, 1,\n",
              "       1, 1, 1, 1, 1, 1, 1, 1, 1, 1, 1, 1, 1, 1, 1, 1, 1, 1, 1, 1, 1, 1,\n",
              "       1, 1, 1, 1, 1, 1, 1, 1, 1, 1, 1, 1, 1, 1, 1, 1, 1, 1, 1, 1, 1, 1,\n",
              "       1, 1, 1, 1, 1, 1, 1, 1, 1, 1, 1, 1, 1, 1, 1, 1, 1, 1, 1, 1, 2, 2,\n",
              "       2, 2, 2, 2, 2, 2, 2, 2, 2, 2, 2, 2, 2, 2, 2, 2, 2, 2, 2, 2, 2, 2,\n",
              "       2, 2, 2, 2, 2, 2, 2, 2, 2, 2, 2, 2, 2, 2, 2, 2, 2, 2, 2, 2, 2, 2,\n",
              "       2, 2])"
            ]
          },
          "execution_count": 3,
          "metadata": {},
          "output_type": "execute_result"
        }
      ],
      "source": [
        "# Print para ver se os dados estao certos\n",
        "data\n",
        "labels"
      ]
    },
    {
      "cell_type": "code",
      "execution_count": 4,
      "metadata": {
        "id": "Gcrc4snD7OZK"
      },
      "outputs": [],
      "source": [
        "data_train, data_test, labels_train, labels_test = train_test_split(\n",
        "    data, \n",
        "    labels, \n",
        "    test_size=0.3, # Porcentagem dos dados destinados para teste, 30%\n",
        "    random_state=42) # Definindo uma seed para a selecao aleatoria"
      ]
    },
    {
      "cell_type": "code",
      "execution_count": 5,
      "metadata": {
        "id": "tyzXwryo8_7I"
      },
      "outputs": [],
      "source": [
        "# Redes Bay\n",
        "net = GaussianNB() # Cria o modelo Naive Bayes com distribuicao Gaussiana\n",
        "net = net.fit(data_train, labels_train) # Treina o modelo com os dados de treino"
      ]
    },
    {
      "cell_type": "code",
      "execution_count": 6,
      "metadata": {
        "colab": {
          "base_uri": "https://localhost:8080/"
        },
        "id": "4TJS5vPS9q-i",
        "outputId": "c0b3f94b-effe-4d38-8e3a-702b885d98d3"
      },
      "outputs": [
        {
          "name": "stdout",
          "output_type": "stream",
          "text": [
            "Predict Test:  [0 0 2 0 1 0 1 2 1 2 0 2 0 1 0 1 1 1 0 1]\n",
            "Labels Test :  [0 0 2 0 1 0 1 2 1 2 0 2 0 1 0 1 1 1 0 1]\n"
          ]
        }
      ],
      "source": [
        "pred = net.predict(data_test) # Gera previsoes para os dados de teste\n",
        "real = labels_test # Armazena as labels deses mesmo dados\n",
        "\n",
        "# Exibicao para comparacao visual\n",
        "print(\"Predict Test: \", pred[0:20])\n",
        "print(\"Labels Test : \", real[0:20])"
      ]
    },
    {
      "cell_type": "code",
      "execution_count": 7,
      "metadata": {
        "colab": {
          "base_uri": "https://localhost:8080/"
        },
        "id": "H4nnUGIg-i0s",
        "outputId": "bea15775-3680-4245-e1af-b288d20ce278"
      },
      "outputs": [
        {
          "name": "stdout",
          "output_type": "stream",
          "text": [
            "Acurácia de Redes Bayesianas :  1.0\n"
          ]
        }
      ],
      "source": [
        "#Metrica do uso das Redes Bayesianas\n",
        "from sklearn.metrics import accuracy_score\n",
        "print(\"Acurácia de Redes Bayesianas : \", accuracy_score(real, pred))"
      ]
    },
    {
      "cell_type": "markdown",
      "metadata": {},
      "source": [
        "- Agora, os mesmo passos usando outro dataset."
      ]
    },
    {
      "cell_type": "code",
      "execution_count": 8,
      "metadata": {
        "id": "Vmi-iIifFdAG"
      },
      "outputs": [],
      "source": [
        "input_data = load_iris()\n",
        "data = input_data['data']\n",
        "labels = input_data['target']"
      ]
    },
    {
      "cell_type": "code",
      "execution_count": 9,
      "metadata": {
        "id": "RvlRuf4IFoSr"
      },
      "outputs": [],
      "source": [
        "data_train, data_test, labels_train, labels_test = train_test_split(\n",
        "    data, \n",
        "    labels, \n",
        "    test_size=0.3,\n",
        "    random_state=42)"
      ]
    },
    {
      "cell_type": "code",
      "execution_count": 10,
      "metadata": {
        "id": "xhaFxVnlFsg_"
      },
      "outputs": [],
      "source": [
        "net = GaussianNB()\n",
        "net = net.fit(data_train, labels_train)"
      ]
    },
    {
      "cell_type": "code",
      "execution_count": 11,
      "metadata": {
        "colab": {
          "base_uri": "https://localhost:8080/"
        },
        "id": "R39rJ2m7FuD2",
        "outputId": "b6911f8f-2e2c-4552-9beb-319323f0ab62"
      },
      "outputs": [
        {
          "name": "stdout",
          "output_type": "stream",
          "text": [
            "Predict Test:  [1 0 2 1 1]\n",
            "Labels Test :  [1 0 2 1 1]\n"
          ]
        }
      ],
      "source": [
        "pred = net.predict(data_test)\n",
        "real = labels_test\n",
        "\n",
        "print(\"Predict Test: \", pred[0:5])\n",
        "print(\"Labels Test : \", real[0:5])"
      ]
    },
    {
      "cell_type": "code",
      "execution_count": 12,
      "metadata": {
        "colab": {
          "base_uri": "https://localhost:8080/"
        },
        "id": "1Q3BSPGIF1wL",
        "outputId": "e17d6757-e529-4a98-fb08-6b957b69157e"
      },
      "outputs": [
        {
          "name": "stdout",
          "output_type": "stream",
          "text": [
            "Acurácia de Redes Bayesianas :  0.9777777777777777\n"
          ]
        }
      ],
      "source": [
        "print(\"Acurácia de Redes Bayesianas : \", accuracy_score(real, pred))"
      ]
    }
  ],
  "metadata": {
    "colab": {
      "provenance": []
    },
    "kernelspec": {
      "display_name": "env",
      "language": "python",
      "name": "python3"
    },
    "language_info": {
      "codemirror_mode": {
        "name": "ipython",
        "version": 3
      },
      "file_extension": ".py",
      "mimetype": "text/x-python",
      "name": "python",
      "nbconvert_exporter": "python",
      "pygments_lexer": "ipython3",
      "version": "3.13.3"
    }
  },
  "nbformat": 4,
  "nbformat_minor": 0
}
