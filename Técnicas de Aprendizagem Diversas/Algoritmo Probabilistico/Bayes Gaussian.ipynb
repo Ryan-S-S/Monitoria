{
  "cells": [
    {
      "cell_type": "markdown",
      "metadata": {
        "id": "WlBkpHQMOXk_"
      },
      "source": [
        "# **Naives Bayes**\n",
        "\n",
        "Nesta classificação, a ideia básica é encontrar a probabilidade de um rótulo (R-Classe) dadas algumas características observadas, que possível é escrever como P(R|Caracteristicas).\n",
        "\n",
        "\n",
        "    P(R|Caracteristicas) = P(caracteristicas | R)P(R) / P(Caracteristicas)\n",
        "\n",
        "Assim é possivel calcular P(R|Caracteristicas i) para cada rótulo. Esse modelo é chamado de Gerador porque especifica o processo que gera os dados. Especificar esse modelo de gerador para cada rótulo é a parte principal do treinamento do Naive Bayes.\n",
        "\n",
        "> Modelo gerador desse algoritmo é Gaussiano, no qual os dados seguem uma distribuição Gaussiana.\n"
      ]
    },
    {
      "cell_type": "markdown",
      "metadata": {},
      "source": [
        "# Pacotes e Módulos"
      ]
    },
    {
      "cell_type": "code",
      "execution_count": 15,
      "metadata": {
        "id": "MOAJxea04yEG"
      },
      "outputs": [],
      "source": [
        "from sklearn.naive_bayes import GaussianNB\n",
        "from sklearn.datasets import load_iris, load_wine\n",
        "from sklearn.model_selection import train_test_split\n",
        "from sklearn.metrics import classification_report"
      ]
    },
    {
      "cell_type": "markdown",
      "metadata": {},
      "source": [
        "# Dataset"
      ]
    },
    {
      "cell_type": "code",
      "execution_count": 16,
      "metadata": {
        "colab": {
          "base_uri": "https://localhost:8080/"
        },
        "id": "DAEwWSBx42oZ",
        "outputId": "3549e2da-ed71-490e-95aa-216b70d2a435"
      },
      "outputs": [],
      "source": [
        "# Carrega o Dataset\n",
        "input_data = load_wine()\n",
        "\n",
        "# Separa os dados e as labels\n",
        "data = input_data['data']\n",
        "labels = input_data['target']"
      ]
    },
    {
      "cell_type": "code",
      "execution_count": 17,
      "metadata": {
        "id": "Gcrc4snD7OZK"
      },
      "outputs": [],
      "source": [
        "# Separando os dados de treino e dados de teste\n",
        "data_train, data_test, labels_train, labels_test = train_test_split(\n",
        "    data, \n",
        "    labels, \n",
        "    test_size=0.3, # Porcentagem dos dados destinados para teste, 30%\n",
        "    random_state=42) # Definindo uma seed para a selecao aleatoria"
      ]
    },
    {
      "cell_type": "markdown",
      "metadata": {},
      "source": [
        "# Criando e treinando a Rede"
      ]
    },
    {
      "cell_type": "code",
      "execution_count": 18,
      "metadata": {
        "id": "tyzXwryo8_7I"
      },
      "outputs": [],
      "source": [
        "# Redes Bayes\n",
        "net = GaussianNB() # Cria o modelo Naive Bayes com distribuicao Gaussiana\n",
        "net = net.fit(data_train, labels_train) # Treina o modelo com os dados de treino"
      ]
    },
    {
      "cell_type": "code",
      "execution_count": 19,
      "metadata": {
        "colab": {
          "base_uri": "https://localhost:8080/"
        },
        "id": "4TJS5vPS9q-i",
        "outputId": "c0b3f94b-effe-4d38-8e3a-702b885d98d3"
      },
      "outputs": [
        {
          "name": "stdout",
          "output_type": "stream",
          "text": [
            "Predict Test:  [0 0 2 0 1 0 1 2 1 2 0 2 0 1 0 1 1 1 0 1]\n",
            "Labels Test :  [0 0 2 0 1 0 1 2 1 2 0 2 0 1 0 1 1 1 0 1]\n"
          ]
        }
      ],
      "source": [
        "pred = net.predict(data_test) # Gera previsoes para os dados de teste\n",
        "real = labels_test # Armazena as labels deses mesmo dados\n",
        "\n",
        "# Exibicao para comparacao visual\n",
        "print(\"Predict Test: \", pred[0:20])\n",
        "print(\"Labels Test : \", real[0:20])"
      ]
    },
    {
      "cell_type": "markdown",
      "metadata": {},
      "source": [
        "# Métricas"
      ]
    },
    {
      "cell_type": "code",
      "execution_count": 20,
      "metadata": {
        "colab": {
          "base_uri": "https://localhost:8080/"
        },
        "id": "H4nnUGIg-i0s",
        "outputId": "bea15775-3680-4245-e1af-b288d20ce278"
      },
      "outputs": [
        {
          "name": "stdout",
          "output_type": "stream",
          "text": [
            "              precision    recall  f1-score   support\n",
            "\n",
            "           0       1.00      1.00      1.00        19\n",
            "           1       1.00      1.00      1.00        21\n",
            "           2       1.00      1.00      1.00        14\n",
            "\n",
            "    accuracy                           1.00        54\n",
            "   macro avg       1.00      1.00      1.00        54\n",
            "weighted avg       1.00      1.00      1.00        54\n",
            "\n"
          ]
        }
      ],
      "source": [
        "# Calculando e imprimindo o relatório de classificação\n",
        "print(classification_report(real, pred, zero_division=1))"
      ]
    },
    {
      "cell_type": "markdown",
      "metadata": {},
      "source": [
        "# **Novamente, mas com outro Dataset**"
      ]
    },
    {
      "cell_type": "code",
      "execution_count": 21,
      "metadata": {
        "id": "Vmi-iIifFdAG"
      },
      "outputs": [],
      "source": [
        "input_data = load_iris()\n",
        "data = input_data['data']\n",
        "labels = input_data['target']"
      ]
    },
    {
      "cell_type": "code",
      "execution_count": 22,
      "metadata": {
        "id": "RvlRuf4IFoSr"
      },
      "outputs": [],
      "source": [
        "data_train, data_test, labels_train, labels_test = train_test_split(\n",
        "    data, \n",
        "    labels, \n",
        "    test_size=0.3,\n",
        "    random_state=42)"
      ]
    },
    {
      "cell_type": "code",
      "execution_count": 23,
      "metadata": {
        "id": "xhaFxVnlFsg_"
      },
      "outputs": [],
      "source": [
        "net = GaussianNB()\n",
        "net = net.fit(data_train, labels_train)"
      ]
    },
    {
      "cell_type": "code",
      "execution_count": 24,
      "metadata": {
        "colab": {
          "base_uri": "https://localhost:8080/"
        },
        "id": "R39rJ2m7FuD2",
        "outputId": "b6911f8f-2e2c-4552-9beb-319323f0ab62"
      },
      "outputs": [
        {
          "name": "stdout",
          "output_type": "stream",
          "text": [
            "Predict Test:  [1 0 2 1 1]\n",
            "Labels Test :  [1 0 2 1 1]\n"
          ]
        }
      ],
      "source": [
        "pred = net.predict(data_test)\n",
        "real = labels_test\n",
        "\n",
        "print(\"Predict Test: \", pred[0:5])\n",
        "print(\"Labels Test : \", real[0:5])"
      ]
    },
    {
      "cell_type": "code",
      "execution_count": 25,
      "metadata": {
        "colab": {
          "base_uri": "https://localhost:8080/"
        },
        "id": "1Q3BSPGIF1wL",
        "outputId": "e17d6757-e529-4a98-fb08-6b957b69157e"
      },
      "outputs": [
        {
          "name": "stdout",
          "output_type": "stream",
          "text": [
            "              precision    recall  f1-score   support\n",
            "\n",
            "           0       1.00      1.00      1.00        19\n",
            "           1       1.00      0.92      0.96        13\n",
            "           2       0.93      1.00      0.96        13\n",
            "\n",
            "    accuracy                           0.98        45\n",
            "   macro avg       0.98      0.97      0.97        45\n",
            "weighted avg       0.98      0.98      0.98        45\n",
            "\n"
          ]
        }
      ],
      "source": [
        "# Calculando e imprimindo o relatório de classificação\n",
        "print(classification_report(real, pred, zero_division=1))"
      ]
    }
  ],
  "metadata": {
    "colab": {
      "provenance": []
    },
    "kernelspec": {
      "display_name": "env",
      "language": "python",
      "name": "python3"
    },
    "language_info": {
      "codemirror_mode": {
        "name": "ipython",
        "version": 3
      },
      "file_extension": ".py",
      "mimetype": "text/x-python",
      "name": "python",
      "nbconvert_exporter": "python",
      "pygments_lexer": "ipython3",
      "version": "3.13.3"
    }
  },
  "nbformat": 4,
  "nbformat_minor": 0
}
