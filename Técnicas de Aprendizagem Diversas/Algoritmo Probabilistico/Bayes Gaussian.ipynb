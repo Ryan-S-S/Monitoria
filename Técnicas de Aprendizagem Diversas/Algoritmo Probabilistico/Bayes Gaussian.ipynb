{
  "cells": [
    {
      "cell_type": "markdown",
      "metadata": {
        "id": "WlBkpHQMOXk_"
      },
      "source": [
        "## Naives Bayes\n",
        "Nesta classificação, a ideia básica é encontrar a probabilidade de um rótulo (R-Classe) dadas algumas características observadas, que possível é escrever como P(R|Caracteristicas).\n",
        "\n",
        "\n",
        "    > P(R|Caracteristicas) = P(caracteristicas | R)P(R) / P(Caracteristicas)\n",
        "\n",
        "Assim é possivel calcular P(R|Caracteristicas i) para cada rótulo. Esse modelo é chamado de Gerador porque especifica o processo que gera os dados. Especificar esse modelo de gerador para cada rótulo é a parte principal do treinamento do Naive Bayes.\n",
        "\n",
        "- Modelo gerador desse algoritmo é Gaussiano, no qual os dados seguem uma distribuição Gaussiana.\n"
      ]
    },
    {
      "cell_type": "code",
      "execution_count": 2,
      "metadata": {
        "id": "MOAJxea04yEG"
      },
      "outputs": [
        {
          "ename": "ModuleNotFoundError",
          "evalue": "No module named 'pandas'",
          "output_type": "error",
          "traceback": [
            "\u001b[31m---------------------------------------------------------------------------\u001b[39m",
            "\u001b[31mModuleNotFoundError\u001b[39m                       Traceback (most recent call last)",
            "\u001b[36mCell\u001b[39m\u001b[36m \u001b[39m\u001b[32mIn[2]\u001b[39m\u001b[32m, line 1\u001b[39m\n\u001b[32m----> \u001b[39m\u001b[32m1\u001b[39m \u001b[38;5;28;01mimport\u001b[39;00m\u001b[38;5;250m \u001b[39m\u001b[34;01mpandas\u001b[39;00m\u001b[38;5;250m \u001b[39m\u001b[38;5;28;01mas\u001b[39;00m\u001b[38;5;250m \u001b[39m\u001b[34;01mpd\u001b[39;00m\n\u001b[32m      2\u001b[39m \u001b[38;5;28;01mfrom\u001b[39;00m\u001b[38;5;250m \u001b[39m\u001b[34;01msklearn\u001b[39;00m\u001b[34;01m.\u001b[39;00m\u001b[34;01mnaive_bayes\u001b[39;00m\u001b[38;5;250m \u001b[39m\u001b[38;5;28;01mimport\u001b[39;00m GaussianNB\n\u001b[32m      3\u001b[39m \u001b[38;5;28;01mfrom\u001b[39;00m\u001b[38;5;250m \u001b[39m\u001b[34;01msklearn\u001b[39;00m\u001b[38;5;250m \u001b[39m\u001b[38;5;28;01mimport\u001b[39;00m tree\n",
            "\u001b[31mModuleNotFoundError\u001b[39m: No module named 'pandas'"
          ]
        }
      ],
      "source": [
        "import pandas as pd\n",
        "from sklearn.naive_bayes import GaussianNB\n",
        "from sklearn import tree\n",
        "from sklearn.datasets import load_iris\n",
        "from sklearn.model_selection import train_test_split, cross_val_score"
      ]
    },
    {
      "cell_type": "code",
      "execution_count": null,
      "metadata": {
        "colab": {
          "base_uri": "https://localhost:8080/"
        },
        "id": "DAEwWSBx42oZ",
        "outputId": "3549e2da-ed71-490e-95aa-216b70d2a435"
      },
      "outputs": [],
      "source": [
        "from sklearn.datasets import load_wine\n",
        "# Carrega o Dataset\n",
        "input_data = load_wine()\n",
        "\n",
        "# Separa os dados e as labels\n",
        "data = input_data['data']\n",
        "labels = input_data['target']"
      ]
    },
    {
      "cell_type": "code",
      "execution_count": null,
      "metadata": {
        "colab": {
          "base_uri": "https://localhost:8080/"
        },
        "id": "iC_76f1XYSYK",
        "outputId": "cf068316-a216-441a-e6f7-61df58549f96"
      },
      "outputs": [],
      "source": [
        "# Print para ver se os dados estao certos\n",
        "data\n",
        "labels"
      ]
    },
    {
      "cell_type": "code",
      "execution_count": null,
      "metadata": {
        "id": "Gcrc4snD7OZK"
      },
      "outputs": [],
      "source": [
        "data_train, data_test, labels_train, labels_test = train_test_split(\n",
        "    data, \n",
        "    labels, \n",
        "    test_size=0.3, # Porcentagem dos dados destinados para teste, 30%\n",
        "    random_state=42) # Definindo uma seed para a selecao aleatoria"
      ]
    },
    {
      "cell_type": "code",
      "execution_count": null,
      "metadata": {
        "id": "tyzXwryo8_7I"
      },
      "outputs": [],
      "source": [
        "# Redes Bay\n",
        "net = GaussianNB() # Cria o modelo Naive Bayes com distribuicao Gaussiana\n",
        "net = net.fit(data_train, labels_train) # Treina o modelo com os dados de treino"
      ]
    },
    {
      "cell_type": "code",
      "execution_count": null,
      "metadata": {
        "colab": {
          "base_uri": "https://localhost:8080/"
        },
        "id": "4TJS5vPS9q-i",
        "outputId": "c0b3f94b-effe-4d38-8e3a-702b885d98d3"
      },
      "outputs": [
        {
          "name": "stdout",
          "output_type": "stream",
          "text": [
            "Predict Test:  [0 0 2 0 1 0 1 2 1 2 0 2 0 1 0 1 1 1 0 1]\n",
            "Labels Test :  [0 0 2 0 1 0 1 2 1 2 0 2 0 1 0 1 1 1 0 1]\n"
          ]
        }
      ],
      "source": [
        "pred = net.predict(data_test) # Gera previsoes para os dados de teste\n",
        "real = labels_test # Armazena as labels deses mesmo dados\n",
        "\n",
        "# Exibicao para comparacao visual\n",
        "print(\"Predict Test: \", pred[0:20])\n",
        "print(\"Labels Test : \", real[0:20])"
      ]
    },
    {
      "cell_type": "code",
      "execution_count": null,
      "metadata": {
        "colab": {
          "base_uri": "https://localhost:8080/"
        },
        "id": "H4nnUGIg-i0s",
        "outputId": "bea15775-3680-4245-e1af-b288d20ce278"
      },
      "outputs": [
        {
          "name": "stdout",
          "output_type": "stream",
          "text": [
            "Acurácia de Redes Bayesianas :  1.0\n"
          ]
        }
      ],
      "source": [
        "#Metrica do uso das Redes Bayesianas\n",
        "from sklearn.metrics import accuracy_score\n",
        "print(\"Acurácia de Redes Bayesianas : \", accuracy_score(real, pred))"
      ]
    },
    {
      "cell_type": "markdown",
      "metadata": {},
      "source": [
        "- Agora, os mesmo passos usando outro dataset."
      ]
    },
    {
      "cell_type": "code",
      "execution_count": null,
      "metadata": {
        "id": "Vmi-iIifFdAG"
      },
      "outputs": [],
      "source": [
        "input_data = load_iris()\n",
        "data = input_data['data']\n",
        "labels = input_data['target']"
      ]
    },
    {
      "cell_type": "code",
      "execution_count": null,
      "metadata": {
        "id": "RvlRuf4IFoSr"
      },
      "outputs": [],
      "source": [
        "data_train, data_test, labels_train, labels_test = train_test_split(\n",
        "    data, \n",
        "    labels, \n",
        "    test_size=0.3,\n",
        "    random_state=42)"
      ]
    },
    {
      "cell_type": "code",
      "execution_count": null,
      "metadata": {
        "id": "xhaFxVnlFsg_"
      },
      "outputs": [],
      "source": [
        "net = GaussianNB()\n",
        "net = net.fit(data_train, labels_train)"
      ]
    },
    {
      "cell_type": "code",
      "execution_count": null,
      "metadata": {
        "colab": {
          "base_uri": "https://localhost:8080/"
        },
        "id": "R39rJ2m7FuD2",
        "outputId": "b6911f8f-2e2c-4552-9beb-319323f0ab62"
      },
      "outputs": [
        {
          "name": "stdout",
          "output_type": "stream",
          "text": [
            "Predict Test:  [1 0 2 1 1]\n",
            "Labels Test :  [1 0 2 1 1]\n"
          ]
        }
      ],
      "source": [
        "pred = net.predict(data_test)\n",
        "real = labels_test\n",
        "\n",
        "print(\"Predict Test: \", pred[0:5])\n",
        "print(\"Labels Test : \", real[0:5])"
      ]
    },
    {
      "cell_type": "code",
      "execution_count": null,
      "metadata": {
        "colab": {
          "base_uri": "https://localhost:8080/"
        },
        "id": "1Q3BSPGIF1wL",
        "outputId": "e17d6757-e529-4a98-fb08-6b957b69157e"
      },
      "outputs": [
        {
          "name": "stdout",
          "output_type": "stream",
          "text": [
            "Acurácia de Redes Bayesianas :  0.9777777777777777\n"
          ]
        }
      ],
      "source": [
        "print(\"Acurácia de Redes Bayesianas : \", accuracy_score(real, pred))"
      ]
    }
  ],
  "metadata": {
    "colab": {
      "provenance": []
    },
    "kernelspec": {
      "display_name": "Python 3",
      "name": "python3"
    },
    "language_info": {
      "codemirror_mode": {
        "name": "ipython",
        "version": 3
      },
      "file_extension": ".py",
      "mimetype": "text/x-python",
      "name": "python",
      "nbconvert_exporter": "python",
      "pygments_lexer": "ipython3",
      "version": "3.13.3"
    }
  },
  "nbformat": 4,
  "nbformat_minor": 0
}
