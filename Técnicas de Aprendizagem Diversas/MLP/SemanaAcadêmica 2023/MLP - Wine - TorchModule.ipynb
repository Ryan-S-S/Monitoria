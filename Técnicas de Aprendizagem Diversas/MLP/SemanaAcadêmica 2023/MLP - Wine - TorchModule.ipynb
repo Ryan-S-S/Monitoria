{
  "cells": [
    {
      "cell_type": "markdown",
      "metadata": {
        "id": "zq4WKgVVrRXb"
      },
      "source": [
        "# Wine\n",
        "Usando análise química para determinar a origem dos vinhos\n",
        "\n",
        "Classificação\n",
        "## Dados\n",
        "Estes dados são o resultado de uma análise química de vinhos cultivados na mesma região da Itália, mas derivados de três cultivares diferentes. A análise determinou as quantidades de 13 constituintes encontrados em cada um dos três tipos de vinhos."
      ]
    },
    {
      "cell_type": "code",
      "execution_count": null,
      "metadata": {
        "id": "mk1xUspGrRXd"
      },
      "outputs": [],
      "source": [
        "!pip install numpy>=1.23.3 scikit-learn>=1.1.2 matplotlib>=3.6.0 pydot>=1.4.2 jupyterlab>=3.4.8 torch>=2.1"
      ]
    },
    {
      "cell_type": "code",
      "execution_count": 6,
      "metadata": {
        "id": "7_bLgWfBrRXe"
      },
      "outputs": [],
      "source": [
        "# Importando Bibliotecas para o projeto\n",
        "import pandas as pd\n",
        "import matplotlib.pyplot as plt\n",
        "import numpy as np\n",
        "from sklearn.model_selection import train_test_split\n",
        "from sklearn.datasets import load_wine\n",
        "import torch\n",
        "import torch.nn as nn"
      ]
    },
    {
      "cell_type": "code",
      "execution_count": 7,
      "metadata": {
        "id": "-f5SBLGZrRXf"
      },
      "outputs": [],
      "source": [
        "# Modelo de Rede Neural MLP\n",
        "class WineClassifier(nn.Module) :\n",
        "    def __init__(self, input_size = 13, hidden_size1=130, hidden_size2 = 70, hidden_size3 = 40, hidden_size4=13, output_size = 3) :\n",
        "        super().__init__()\n",
        "        self.fc1 = nn.Linear(input_size, hidden_size1)\n",
        "        self.fc2 = nn.Linear(hidden_size1, hidden_size2)\n",
        "        self.fc3 = nn.Linear(hidden_size2, hidden_size3)\n",
        "        self.fc4 = nn.Linear(hidden_size3, hidden_size4)\n",
        "        self.output = nn.Linear(hidden_size4, output_size)\n",
        "        self.relu = nn.ReLU()\n",
        "\n",
        "    def forward(self, data) :\n",
        "        data = self.relu(self.fc1(data))\n",
        "        data = self.relu(self.fc2(data))\n",
        "        data = self.relu(self.fc3(data))\n",
        "        data = self.relu(self.fc4(data))\n",
        "        data = self.output(data)\n",
        "        return data\n"
      ]
    },
    {
      "cell_type": "code",
      "execution_count": 8,
      "metadata": {
        "id": "bTFRVU1erRXf"
      },
      "outputs": [],
      "source": [
        "# Introdução e Tratamento de Dados\n",
        "\n",
        "# Carrega o Dataset\n",
        "input_data = load_wine()\n",
        "\n",
        "# Separa os dados e as labels\n",
        "data = input_data['data']\n",
        "labels = input_data['target']\n",
        "\n",
        "data_train, data_test, labels_train, labels_test = train_test_split(data, labels, test_size=0.2, shuffle=True, random_state=41)"
      ]
    },
    {
      "cell_type": "code",
      "execution_count": 9,
      "metadata": {
        "id": "PYGCYv6grRXg",
        "outputId": "bbcfdbe2-ed51-4ce9-e7bd-15999e1e0b6b",
        "colab": {
          "base_uri": "https://localhost:8080/"
        }
      },
      "outputs": [
        {
          "output_type": "stream",
          "name": "stdout",
          "text": [
            "Dados para Treino :  142\n",
            "Dados para Teste :  36\n"
          ]
        },
        {
          "output_type": "execute_result",
          "data": {
            "text/plain": [
              "tensor([0, 1, 2, 2, 0, 1, 1, 2, 0, 2, 0, 1, 1, 0, 1, 0, 2, 0, 2, 1, 2, 0, 1, 1,\n",
              "        2, 0, 1, 0, 1, 2, 0, 0, 0, 1, 2, 0, 0, 1, 0, 2, 1, 1, 0, 0, 1, 0, 1, 1,\n",
              "        2, 1, 0, 0, 1, 0, 1, 1, 0, 1, 0, 2, 1, 1, 0, 0, 1, 1, 1, 1, 0, 2, 1, 1,\n",
              "        0, 1, 0, 0, 1, 2, 0, 0, 0, 1, 0, 1, 0, 2, 0, 0, 2, 1, 2, 1, 0, 2, 0, 0,\n",
              "        2, 1, 1, 2, 0, 1, 1, 2, 1, 1, 0, 0, 1, 2, 1, 0, 2, 2, 1, 0, 1, 1, 1, 0,\n",
              "        2, 2, 0, 0, 0, 1, 2, 1, 1, 1, 1, 1, 2, 2, 1, 0, 2, 1, 1, 1, 2, 2])"
            ]
          },
          "metadata": {},
          "execution_count": 9
        }
      ],
      "source": [
        "# Verificando os dados\n",
        "data_train = torch.FloatTensor(data_train)\n",
        "data_test = torch.FloatTensor(data_test)\n",
        "labels_train = torch.LongTensor(labels_train)\n",
        "labels_test = torch.LongTensor(labels_test)\n",
        "\n",
        "print(\"Dados para Treino : \", len(data_train))\n",
        "print(\"Dados para Teste : \", len(data_test))\n",
        "\n",
        "labels_train\n"
      ]
    },
    {
      "cell_type": "code",
      "execution_count": 10,
      "metadata": {
        "id": "LrR0p8iUrRXh"
      },
      "outputs": [],
      "source": [
        "classificadorMonstro = WineClassifier()\n",
        "learning_rate = 0.01\n",
        "criterion = nn.CrossEntropyLoss()\n",
        "optimizer = torch.optim.Adam(classificadorMonstro.parameters(), lr=learning_rate)"
      ]
    },
    {
      "cell_type": "code",
      "execution_count": 11,
      "metadata": {
        "id": "x1J8CcJRrRXh"
      },
      "outputs": [],
      "source": [
        "def get_accuracy_multiclass(pred_arr,original_arr):\n",
        "    if len(pred_arr)!=len(original_arr):\n",
        "        return False\n",
        "    pred_arr = pred_arr.numpy()\n",
        "    original_arr = original_arr.numpy()\n",
        "    final_pred= []\n",
        "    # we will get something like this in the pred_arr [32.1680,12.9350,-58.4877]\n",
        "    # so will be taking the index of that argument which has the highest value here 32.1680 which corresponds to 0th index\n",
        "    for i in range(len(pred_arr)):\n",
        "        final_pred.append(np.argmax(pred_arr[i]))\n",
        "    final_pred = np.array(final_pred)\n",
        "    count = 0\n",
        "    #here we are doing a simple comparison between the predicted_arr and the original_arr to get the final accuracy\n",
        "    for i in range(len(original_arr)):\n",
        "        if final_pred[i] == original_arr[i]:\n",
        "            count+=1\n",
        "    return count/len(final_pred)"
      ]
    },
    {
      "cell_type": "code",
      "execution_count": 12,
      "metadata": {
        "id": "tKpy-4tqrRXi"
      },
      "outputs": [],
      "source": [
        "#Treinamento\n",
        "from sklearn.metrics import accuracy_score\n",
        "\n",
        "\n",
        "\n",
        "def train_network(model, optimizer, criterion, data_train, labels_train, data_test, labels_test, num_epochs, train_losses, test_losses) :\n",
        "    for i in range(num_epochs) :\n",
        "        optimizer.zero_grad()\n",
        "\n",
        "        label_train = model.forward(data_train) # Pegando a previsão\n",
        "        loss_train = criterion(label_train, labels_train)\n",
        "        loss_train.backward()\n",
        "        optimizer.step()\n",
        "\n",
        "        label_test = model(data_test)\n",
        "        loss_test = criterion(label_test, labels_test)\n",
        "\n",
        "        train_losses.append(loss_train.detach().numpy())\n",
        "        test_losses.append(loss_test.detach().numpy())\n",
        "\n",
        "        if i%10 == 0 :\n",
        "            print(f'Época {i}, Erro de Treinamento : {loss_train}, Erro de Teste : {loss_test}')"
      ]
    },
    {
      "cell_type": "code",
      "execution_count": 13,
      "metadata": {
        "id": "Lg4kGPuwrRXi",
        "outputId": "00c089c0-42b6-449d-cb78-434d36ba27b5",
        "colab": {
          "base_uri": "https://localhost:8080/"
        }
      },
      "outputs": [
        {
          "output_type": "stream",
          "name": "stdout",
          "text": [
            "Época 0, Erro de Treinamento : 4.2086286544799805, Erro de Teste : 5.598449230194092\n",
            "Época 10, Erro de Treinamento : 1.3294007778167725, Erro de Teste : 1.553950548171997\n",
            "Época 20, Erro de Treinamento : 0.9760411381721497, Erro de Teste : 1.013035774230957\n",
            "Época 30, Erro de Treinamento : 0.9465765953063965, Erro de Teste : 0.9980568289756775\n",
            "Época 40, Erro de Treinamento : 0.9018459916114807, Erro de Teste : 0.9484228491783142\n",
            "Época 50, Erro de Treinamento : 0.8398606777191162, Erro de Teste : 0.8909249901771545\n",
            "Época 60, Erro de Treinamento : 0.7772994041442871, Erro de Teste : 0.8200308084487915\n",
            "Época 70, Erro de Treinamento : 0.7843713164329529, Erro de Teste : 0.861288845539093\n",
            "Época 80, Erro de Treinamento : 0.7319811582565308, Erro de Teste : 0.7445542216300964\n",
            "Época 90, Erro de Treinamento : 0.7127031087875366, Erro de Teste : 0.7258475422859192\n",
            "Época 100, Erro de Treinamento : 0.6972327828407288, Erro de Teste : 0.7088156342506409\n",
            "Época 110, Erro de Treinamento : 0.682998776435852, Erro de Teste : 0.7031161785125732\n",
            "Época 120, Erro de Treinamento : 0.6731804609298706, Erro de Teste : 0.6946401596069336\n",
            "Época 130, Erro de Treinamento : 0.665249228477478, Erro de Teste : 0.6891946196556091\n",
            "Época 140, Erro de Treinamento : 0.6578486561775208, Erro de Teste : 0.68460613489151\n",
            "Época 150, Erro de Treinamento : 0.6511508822441101, Erro de Teste : 0.6801478862762451\n",
            "Época 160, Erro de Treinamento : 0.6448956727981567, Erro de Teste : 0.6757261753082275\n",
            "Época 170, Erro de Treinamento : 0.6389822363853455, Erro de Teste : 0.6714875102043152\n",
            "Época 180, Erro de Treinamento : 0.6334829926490784, Erro de Teste : 0.6673386096954346\n",
            "Época 190, Erro de Treinamento : 0.6282514929771423, Erro de Teste : 0.6633850336074829\n"
          ]
        }
      ],
      "source": [
        "num_epochs = 200\n",
        "train_losses = []\n",
        "test_losses = []\n",
        "train_network(classificadorMonstro, optimizer, criterion, data_train, labels_train, data_test, labels_test, num_epochs, train_losses, test_losses)"
      ]
    },
    {
      "cell_type": "code",
      "execution_count": 14,
      "metadata": {
        "id": "k_QGI8eZrRXi",
        "outputId": "d7cc713e-dbaf-4885-fe57-96e70388c81a",
        "colab": {
          "base_uri": "https://localhost:8080/",
          "height": 853
        }
      },
      "outputs": [
        {
          "output_type": "display_data",
          "data": {
            "text/plain": [
              "<Figure size 1000x1000 with 1 Axes>"
            ],
            "image/png": "[encoded data removed]"
          },
          "metadata": {}
        }
      ],
      "source": [
        "import matplotlib.pyplot as plt\n",
        "\n",
        "plt.figure(figsize=(10,10))\n",
        "plt.plot(train_losses, label='Erro de Treinamento')\n",
        "plt.plot(test_losses, label='Erro de Validação')\n",
        "plt.title(\"Erro por epóca\")\n",
        "plt.legend()\n",
        "plt.show()"
      ]
    },
    {
      "cell_type": "code",
      "execution_count": 15,
      "metadata": {
        "id": "YngVKNiErRXj",
        "outputId": "5b2756cd-d739-42fd-9a78-01bc0767e30a",
        "colab": {
          "base_uri": "https://localhost:8080/"
        }
      },
      "outputs": [
        {
          "output_type": "stream",
          "name": "stdout",
          "text": [
            "Resultado Calculado : Classe 1\n",
            "Resultado Esperado : Classe 1\n"
          ]
        }
      ],
      "source": [
        "import operator\n",
        "data_testp = torch.FloatTensor(data_test[0])\n",
        "label_testp = torch.LongTensor(labels_test[0])\n",
        "output = classificadorMonstro(data_testp)\n",
        "\n",
        "logits = torch.nn.functional.softmax(output, dim=-1) * 100\n",
        "categories = ['Classe 0', 'Classe 1', 'Classe 2']\n",
        "prob_dict = {}\n",
        "\n",
        "for i, classname in enumerate(categories):\n",
        "  prob = logits[i]\n",
        "  prob_dict[classname] = prob\n",
        "\n",
        "result = max(prob_dict.items(), key=operator.itemgetter(1))\n",
        "print(f'Resultado Calculado : {result[0]}')\n",
        "print(f'Resultado Esperado : {categories[label_testp]}')"
      ]
    },
    {
      "cell_type": "code",
      "execution_count": 16,
      "metadata": {
        "id": "zpc6vbq_rRXj",
        "outputId": "3f81e064-83e4-4a81-df0f-7e73706bb75f",
        "colab": {
          "base_uri": "https://localhost:8080/"
        }
      },
      "outputs": [
        {
          "output_type": "stream",
          "name": "stdout",
          "text": [
            "Training Accuracy: 71.127\n",
            "Test Accuracy: 58.333\n"
          ]
        }
      ],
      "source": [
        "predictions_train = []\n",
        "predictions_test =  []\n",
        "with torch.no_grad():\n",
        "    predictions_train = classificadorMonstro(data_train)\n",
        "    predictions_test = classificadorMonstro(data_test)\n",
        "\n",
        "train_acc = get_accuracy_multiclass(predictions_train,labels_train)\n",
        "test_acc  = get_accuracy_multiclass(predictions_test,labels_test)\n",
        "print(f\"Training Accuracy: {round(train_acc*100,3)}\")\n",
        "print(f\"Test Accuracy: {round(test_acc*100,3)}\")"
      ]
    },
    {
      "cell_type": "code",
      "execution_count": 17,
      "metadata": {
        "id": "mKjbqpeqrRXj",
        "outputId": "d3f8f71a-6291-4f30-b3de-e71d2eda227b",
        "colab": {
          "base_uri": "https://localhost:8080/"
        }
      },
      "outputs": [
        {
          "output_type": "stream",
          "name": "stdout",
          "text": [
            "----- Matriz de Confusão - Dados de Teste -----\n"
          ]
        },
        {
          "output_type": "execute_result",
          "data": {
            "text/plain": [
              "array([[ 9,  0,  0],\n",
              "       [ 0, 12,  0],\n",
              "       [ 0, 15,  0]])"
            ]
          },
          "metadata": {},
          "execution_count": 17
        }
      ],
      "source": [
        "# Matriz de Confusão\n",
        "from sklearn.metrics import confusion_matrix\n",
        "from sklearn.metrics import multilabel_confusion_matrix\n",
        "\n",
        "class_predict = classificadorMonstro(data_test)\n",
        "class_predict = class_predict.argmax(axis=1)\n",
        "confusion_matriz = confusion_matrix(labels_test, class_predict, labels=range(3))\n",
        "print(\"----- Matriz de Confusão - Dados de Teste -----\")\n",
        "confusion_matriz"
      ]
    },
    {
      "cell_type": "code",
      "execution_count": 18,
      "metadata": {
        "id": "EbLDKvWUrRXj"
      },
      "outputs": [],
      "source": [
        "from sklearn.metrics import precision_score, recall_score, f1_score, accuracy_score\n",
        "from sklearn.metrics import precision_recall_fscore_support\n",
        "from sklearn.metrics import classification_report"
      ]
    },
    {
      "cell_type": "code",
      "execution_count": 19,
      "metadata": {
        "id": "8rpxdsC-rRXk",
        "outputId": "7d60b28c-0920-420f-c4f8-050e6ca39691",
        "colab": {
          "base_uri": "https://localhost:8080/"
        }
      },
      "outputs": [
        {
          "output_type": "stream",
          "name": "stdout",
          "text": [
            "-----Métricas no Geral------\n",
            "Precisão :  0.8148148148148148\n",
            "Revocação :  0.5833333333333334\n",
            "F1 - Score:  0.4551282051282052\n",
            "Acurácia :  0.5833333333333334\n"
          ]
        }
      ],
      "source": [
        "precision = precision_score(labels_test, class_predict, average='weighted', zero_division=1)\n",
        "recall_score = recall_score(labels_test, class_predict, average='weighted', zero_division=1)\n",
        "f1_score = f1_score(labels_test, class_predict, average='weighted', zero_division=1)\n",
        "accuracy_score = accuracy_score(labels_test, class_predict)\n",
        "\n",
        "print(\"-----Métricas no Geral------\")\n",
        "print(\"Precisão : \", precision)\n",
        "print(\"Revocação : \",  recall_score)\n",
        "print(\"F1 - Score: \", f1_score)\n",
        "print(\"Acurácia : \", accuracy_score)\n"
      ]
    },
    {
      "cell_type": "code",
      "execution_count": 20,
      "metadata": {
        "id": "VaTG5Dw-rRXk",
        "outputId": "8bb4dd40-61fc-4184-c37e-ccf1456bc1ab",
        "colab": {
          "base_uri": "https://localhost:8080/"
        }
      },
      "outputs": [
        {
          "output_type": "stream",
          "name": "stdout",
          "text": [
            "-------Métricas para cada classe-------\n",
            "Acurácia :  [1. 1. 0.]\n",
            "              precision    recall  f1-score   support\n",
            "\n",
            "           0       1.00      1.00      1.00         9\n",
            "           1       0.44      1.00      0.62        12\n",
            "           2       1.00      0.00      0.00        15\n",
            "\n",
            "    accuracy                           0.58        36\n",
            "   macro avg       0.81      0.67      0.54        36\n",
            "weighted avg       0.81      0.58      0.46        36\n",
            "\n"
          ]
        }
      ],
      "source": [
        "precision, recall_score, f1_score, support = precision_recall_fscore_support(labels_test, class_predict, zero_division=1)\n",
        "\n",
        "print(\"-------Métricas para cada classe-------\")\n",
        "confusion_matriz = confusion_matriz.astype('float') / confusion_matriz.sum(axis=1)[:, np.newaxis]\n",
        "accuracy_score = confusion_matriz.diagonal()\n",
        "\n",
        "\n",
        "print(\"Acurácia : \", accuracy_score)\n",
        "\n",
        "print(classification_report(labels_test, class_predict, zero_division=1))"
      ]
    }
  ],
  "metadata": {
    "kernelspec": {
      "display_name": "Python 3",
      "language": "python",
      "name": "python3"
    },
    "language_info": {
      "codemirror_mode": {
        "name": "ipython",
        "version": 3
      },
      "file_extension": ".py",
      "mimetype": "text/x-python",
      "name": "python",
      "nbconvert_exporter": "python",
      "pygments_lexer": "ipython3",
      "version": "3.11.1"
    },
    "colab": {
      "provenance": []
    }
  },
  "nbformat": 4,
  "nbformat_minor": 0
}