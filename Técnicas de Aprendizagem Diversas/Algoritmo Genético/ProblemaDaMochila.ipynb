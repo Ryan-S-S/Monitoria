{
 "cells": [
  {
   "cell_type": "markdown",
   "metadata": {},
   "source": [
    "## ALGORITMO GENÉTICO\n",
    "No problema da Mochila, temos uma lista de itens, cada um com um valor e um peso, e uma mochila que suporta até certo peso. Devemos escolher uma combinação de itens que tenha o maior valor possível sem ultrapassar o limite de peso.\n",
    "Suponha que temos 8 itens em nossa lista. Neste exemplo, a mochila só pode receber uma unidade de cada item, embora existam variações do problema que permitem repetições. Cada indivíduo da população será representado por uma lista binária (Genoma) que indica os itens selecionados. Por exemplo: indivíduo 42: [1, 0, 0, 0, 1, 1, 0, 1]. Nesse caso, cada posição da lista corresponde a um item: o valor 1 indica que o item será levado, enquanto 0 indica que não será incluído na mochila."
   ]
  },
  {
   "cell_type": "code",
   "execution_count": 82,
   "metadata": {
    "executionInfo": {
     "elapsed": 304,
     "status": "ok",
     "timestamp": 1705500108916,
     "user": {
      "displayName": "Rafael Batista",
      "userId": "02193470110207597108"
     },
     "user_tz": 180
    },
    "id": "mT0Msz6Via46"
   },
   "outputs": [],
   "source": [
    "# Bibliotecas\n",
    "from random import getrandbits, randint, random, choice\n",
    "import numpy as np\n",
    "import math"
   ]
  },
  {
   "cell_type": "code",
   "execution_count": null,
   "metadata": {
    "executionInfo": {
     "elapsed": 4,
     "status": "ok",
     "timestamp": 1705500109227,
     "user": {
      "displayName": "Rafael Batista",
      "userId": "02193470110207597108"
     },
     "user_tz": 180
    },
    "id": "4XgLMZVVmjy8"
   },
   "outputs": [],
   "source": [
    "# Individuo e População\n",
    "def new_individual(number_of_items) :\n",
    "  return [ getrandbits(1) for x in range(number_of_items) ] # Gera o individuo e a sua lista de binarios aleatorios correspondente a lista de itens\n",
    "\n",
    "def new_population(numbers_of_individuals, number_of_items):\n",
    "    return [ new_individual(number_of_items) for x in range(numbers_of_individuals) ] # Gera a população inicial"
   ]
  },
  {
   "cell_type": "code",
   "execution_count": null,
   "metadata": {
    "executionInfo": {
     "elapsed": 441,
     "status": "ok",
     "timestamp": 1705500109664,
     "user": {
      "displayName": "Rafael Batista",
      "userId": "02193470110207597108"
     },
     "user_tz": 180
    },
    "id": "eamgrrzUoYd6"
   },
   "outputs": [],
   "source": [
    "# Aptidao - Fitness || valida o individuo e calcula o valor da sua mochila\n",
    "def fitness(individual, max_weight, weights_and_values):\n",
    "    total_weight, total_value = 0, 0\n",
    "    for index, value in enumerate(individual): # Ira analisar o Genoma do individuo\n",
    "        total_weight += (individual[index] * weights_and_values[index][0]) # Adiciona à mochila o peso dos itens que constam no genoma\n",
    "        total_value += (individual[index] * weights_and_values[index][1]) # Adiciona ao valor da mochila o valor dos itens que constam no genoma\n",
    "\n",
    "    if (max_weight - total_weight) < 0: # Se o peso total ultrapassar o limite da mochila, o indivíduo é descartado\n",
    "        return -1 \n",
    "    return total_value\n",
    "\n",
    "# Calcula o valor mínimo, máximo e a média dos valores da população\n",
    "def average_fitness(population, max_weight, weights_and_values):\n",
    "    values = list(fitness(x, max_weight, weights_and_values) for x in population if fitness(x, max_weight, weights_and_values) >= 0)\n",
    "    minValue = min(values)\n",
    "    maxValue = max(values)\n",
    "    summed = sum(fitness(x, max_weight, weights_and_values) for x in population if fitness(x, max_weight, weights_and_values) >= 0)\n",
    "    summed = summed / (len(population) * 1.0)\n",
    "    return summed, minValue, maxValue"
   ]
  },
  {
   "cell_type": "code",
   "execution_count": null,
   "metadata": {
    "executionInfo": {
     "elapsed": 8,
     "status": "ok",
     "timestamp": 1705500109664,
     "user": {
      "displayName": "Rafael Batista",
      "userId": "02193470110207597108"
     },
     "user_tz": 180
    },
    "id": "ZDnqlI9-o-We"
   },
   "outputs": [],
   "source": [
    "# Seleção dos indivíduos que passarão seus genes adiante\n",
    "def roulette_selection(parents):\n",
    "    \n",
    "    # Gira a roleta para selecionar um indivíduo proporcional ao seu valor (fitness)\n",
    "    def spin_roulette(total_fitness, index_to_ignore=-1):\n",
    "        roulette, accumulated, randomly_chosen_value = [], 0, random()\n",
    "\n",
    "        # Se for selecionar o segundo pai, remove o valor do primeiro da roleta\n",
    "        if index_to_ignore != -1:\n",
    "            total_fitness -= values[0][index_to_ignore]\n",
    "\n",
    "        # Cria a roleta acumulada com base na proporção de valor\n",
    "        for index, fitness_value in enumerate(values[0]):\n",
    "            if index_to_ignore == index:\n",
    "                continue\n",
    "            accumulated += fitness_value\n",
    "            roulette.append(accumulated / total_fitness)\n",
    "            # Retorna o índice do indivíduo selecionado\n",
    "            if roulette[-1] >= randomly_chosen_value:\n",
    "                return index\n",
    "\n",
    "    # Separa os valores (fitness) e os genomas dos pais\n",
    "    values = list(zip(*parents))\n",
    "    total_fitness = sum(values[0])  # Soma total dos valores\n",
    "\n",
    "    father_index = spin_roulette(total_fitness)  # Seleciona o pai\n",
    "    mother_index = spin_roulette(total_fitness, father_index)  # Seleciona a mãe, diferente do pai\n",
    "\n",
    "    father = values[1][father_index]  # Obtém o genoma do pai\n",
    "    mother = values[1][mother_index]  # Obtém o genoma da mãe\n",
    "\n",
    "    return father, mother  # Retorna os dois pais selecionados"
   ]
  },
  {
   "cell_type": "code",
   "execution_count": null,
   "metadata": {
    "executionInfo": {
     "elapsed": 7,
     "status": "ok",
     "timestamp": 1705500109664,
     "user": {
      "displayName": "Rafael Batista",
      "userId": "02193470110207597108"
     },
     "user_tz": 180
    },
    "id": "I36GUdm7prpZ"
   },
   "outputs": [],
   "source": [
    "# Evolução da população\n",
    "def evolve(population, max_weight, weights_and_values, chromosome_count, mutate=0.05):\n",
    "    # Calcula o valor (fitness) de cada indivíduo e filtra apenas os válidos (com peso aceitável)\n",
    "    parents = [[fitness(x, max_weight, weights_and_values), x] for x in population if fitness(x, max_weight, weights_and_values) >= 0]\n",
    "    parents.sort(reverse=True)  # Ordena os pais do melhor para o pior\n",
    "\n",
    "    # Reprodução\n",
    "    children = []\n",
    "    while len(children) < chromosome_count:\n",
    "        father, mother = roulette_selection(parents)  # Seleciona dois pais\n",
    "        middle = len(father) // 2  # Define o ponto de corte para o cruzamento\n",
    "        child = father[:middle] + mother[middle:]  # Gera o filho com parte do pai e parte da mãe\n",
    "        children.append(child)  # Adiciona o novo indivíduo à nova geração\n",
    "\n",
    "    # Mutação\n",
    "    for individual in children:\n",
    "        if mutate > random():  # Com uma certa probabilidade, realiza mutação\n",
    "            position_to_mutate = randint(0, len(individual) - 1)  # Escolhe uma posição aleatória\n",
    "            # Inverte o valor do gene (0 vira 1 e vice-versa)\n",
    "            if individual[position_to_mutate] == 1:\n",
    "                individual[position_to_mutate] = 0\n",
    "            else:\n",
    "                individual[position_to_mutate] = 1\n",
    "\n",
    "    return children  # Retorna a nova geração\n"
   ]
  },
  {
   "cell_type": "code",
   "execution_count": null,
   "metadata": {
    "executionInfo": {
     "elapsed": 7,
     "status": "ok",
     "timestamp": 1705500109664,
     "user": {
      "displayName": "Rafael Batista",
      "userId": "02193470110207597108"
     },
     "user_tz": 180
    },
    "id": "MJGyZFtAqU7J"
   },
   "outputs": [],
   "source": [
    "# Parâmetros do problema\n",
    "\n",
    "# Lista com o peso e valor de cada item disponível\n",
    "weights_and_values = [[4, 30], [8, 10], [8, 30], [25, 75], [2, 10], [50, 100], [6, 300], [12, 50], [100, 400], [8, 300]]\n",
    "\n",
    "# Peso máximo que a mochila pode carregar\n",
    "max_weight = 100\n",
    "\n",
    "# Quantidade de indivíduos em cada geração (população)\n",
    "chromosome_count = 20\n",
    "\n",
    "# Número total de gerações que o algoritmo vai simular\n",
    "generations = 80\n",
    "\n",
    "# Número de itens disponíveis (também é o tamanho do genoma)\n",
    "item_count = len(weights_and_values)\n"
   ]
  },
  {
   "cell_type": "code",
   "execution_count": null,
   "metadata": {
    "executionInfo": {
     "elapsed": 6,
     "status": "ok",
     "timestamp": 1705500109664,
     "user": {
      "displayName": "Rafael Batista",
      "userId": "02193470110207597108"
     },
     "user_tz": 180
    },
    "id": "MjzlTfJUm3hX"
   },
   "outputs": [],
   "source": [
    "# Execução das etapas do algoritmo genético\n",
    "\n",
    "# Cria a população inicial com indivíduos aleatórios\n",
    "population = new_population(chromosome_count, item_count)\n",
    "\n",
    "# Guarda o valor médio de fitness da população inicial\n",
    "fitness_history = [average_fitness(population, max_weight, weights_and_values)]\n",
    "\n",
    "# Executa o processo de evolução por um número definido de gerações\n",
    "for i in range(generations):\n",
    "    # Gera uma nova população evoluída a partir da atual\n",
    "    population = evolve(population, max_weight, weights_and_values, chromosome_count)\n",
    "    \n",
    "    # Armazena o valor médio de fitness da nova geração\n",
    "    fitness_history.append(average_fitness(population, max_weight, weights_and_values))"
   ]
  },
  {
   "cell_type": "code",
   "execution_count": 89,
   "metadata": {
    "colab": {
     "base_uri": "https://localhost:8080/"
    },
    "executionInfo": {
     "elapsed": 7,
     "status": "ok",
     "timestamp": 1705500109665,
     "user": {
      "displayName": "Rafael Batista",
      "userId": "02193470110207597108"
     },
     "user_tz": 180
    },
    "id": "obycFtbAt7OR",
    "outputId": "ecfb7724-adf0-4fce-da86-65af8993ee4a"
   },
   "outputs": [
    {
     "data": {
      "text/plain": [
       "(211.5, 100, 785)"
      ]
     },
     "execution_count": 89,
     "metadata": {},
     "output_type": "execute_result"
    }
   ],
   "source": [
    "fitness_history[0]"
   ]
  },
  {
   "cell_type": "markdown",
   "metadata": {},
   "source": [
    "Apartir daqui, essa parte de exibição, eu não mexi."
   ]
  },
  {
   "cell_type": "code",
   "execution_count": 92,
   "metadata": {
    "colab": {
     "base_uri": "https://localhost:8080/"
    },
    "executionInfo": {
     "elapsed": 376,
     "status": "ok",
     "timestamp": 1705500145940,
     "user": {
      "displayName": "Rafael Batista",
      "userId": "02193470110207597108"
     },
     "user_tz": 180
    },
    "id": "eejUbTSoqlSb",
    "outputId": "7c7c3902-75c1-4082-dfd6-56ef8f45372e"
   },
   "outputs": [
    {
     "name": "stdout",
     "output_type": "stream",
     "text": [
      "Geração: 0  | Média do valor da Mocilha: 211.5 | Mínimo do valor da Mochila:  100 | Máximo do valor da Mochila:  785\n",
      "Geração: 1  | Média do valor da Mocilha: 562.5 | Mínimo do valor da Mochila:  110 | Máximo do valor da Mochila:  775\n",
      "Geração: 2  | Média do valor da Mocilha: 649.5 | Mínimo do valor da Mochila:  410 | Máximo do valor da Mochila:  785\n",
      "Geração: 3  | Média do valor da Mocilha: 654.0 | Mínimo do valor da Mochila:  495 | Máximo do valor da Mochila:  795\n",
      "Geração: 4  | Média do valor da Mocilha: 657.0 | Mínimo do valor da Mochila:  360 | Máximo do valor da Mochila:  745\n",
      "Geração: 5  | Média do valor da Mocilha: 653.25 | Mínimo do valor da Mochila:  425 | Máximo do valor da Mochila:  765\n",
      "Geração: 6  | Média do valor da Mocilha: 665.5 | Mínimo do valor da Mochila:  360 | Máximo do valor da Mochila:  765\n",
      "Geração: 7  | Média do valor da Mocilha: 675.5 | Mínimo do valor da Mochila:  435 | Máximo do valor da Mochila:  735\n",
      "Geração: 8  | Média do valor da Mocilha: 646.0 | Mínimo do valor da Mochila:  610 | Máximo do valor da Mochila:  765\n",
      "Geração: 9  | Média do valor da Mocilha: 678.75 | Mínimo do valor da Mochila:  610 | Máximo do valor da Mochila:  735\n",
      "Geração: 10  | Média do valor da Mocilha: 655.75 | Mínimo do valor da Mochila:  610 | Máximo do valor da Mochila:  735\n",
      "Geração: 11  | Média do valor da Mocilha: 694.5 | Mínimo do valor da Mochila:  610 | Máximo do valor da Mochila:  785\n",
      "Geração: 12  | Média do valor da Mocilha: 676.5 | Mínimo do valor da Mochila:  610 | Máximo do valor da Mochila:  765\n",
      "Geração: 13  | Média do valor da Mocilha: 659.5 | Mínimo do valor da Mochila:  415 | Máximo do valor da Mochila:  735\n",
      "Geração: 14  | Média do valor da Mocilha: 664.0 | Mínimo do valor da Mochila:  320 | Máximo do valor da Mochila:  765\n",
      "Geração: 15  | Média do valor da Mocilha: 691.75 | Mínimo do valor da Mochila:  600 | Máximo do valor da Mochila:  765\n",
      "Geração: 16  | Média do valor da Mocilha: 699.75 | Mínimo do valor da Mochila:  610 | Máximo do valor da Mochila:  765\n",
      "Geração: 17  | Média do valor da Mocilha: 711.5 | Mínimo do valor da Mochila:  610 | Máximo do valor da Mochila:  765\n",
      "Geração: 18  | Média do valor da Mocilha: 683.25 | Mínimo do valor da Mochila:  660 | Máximo do valor da Mochila:  765\n",
      "Geração: 19  | Média do valor da Mocilha: 712.75 | Mínimo do valor da Mochila:  610 | Máximo do valor da Mochila:  765\n",
      "Geração: 20  | Média do valor da Mocilha: 708.75 | Mínimo do valor da Mochila:  610 | Máximo do valor da Mochila:  765\n",
      "Geração: 21  | Média do valor da Mocilha: 713.5 | Mínimo do valor da Mochila:  610 | Máximo do valor da Mochila:  765\n",
      "Geração: 22  | Média do valor da Mocilha: 708.0 | Mínimo do valor da Mochila:  465 | Máximo do valor da Mochila:  765\n",
      "Geração: 23  | Média do valor da Mocilha: 675.75 | Mínimo do valor da Mochila:  445 | Máximo do valor da Mochila:  775\n",
      "Geração: 24  | Média do valor da Mocilha: 725.0 | Mínimo do valor da Mochila:  465 | Máximo do valor da Mochila:  775\n",
      "Geração: 25  | Média do valor da Mocilha: 703.25 | Mínimo do valor da Mochila:  725 | Máximo do valor da Mochila:  775\n",
      "Geração: 26  | Média do valor da Mocilha: 729.75 | Mínimo do valor da Mochila:  435 | Máximo do valor da Mochila:  775\n",
      "Geração: 27  | Média do valor da Mocilha: 734.25 | Mínimo do valor da Mochila:  670 | Máximo do valor da Mochila:  775\n",
      "Geração: 28  | Média do valor da Mocilha: 734.25 | Mínimo do valor da Mochila:  670 | Máximo do valor da Mochila:  775\n",
      "Geração: 29  | Média do valor da Mocilha: 709.75 | Mínimo do valor da Mochila:  435 | Máximo do valor da Mochila:  735\n",
      "Geração: 30  | Média do valor da Mocilha: 679.5 | Mínimo do valor da Mochila:  435 | Máximo do valor da Mochila:  735\n",
      "Geração: 31  | Média do valor da Mocilha: 662.25 | Mínimo do valor da Mochila:  435 | Máximo do valor da Mochila:  765\n",
      "Geração: 32  | Média do valor da Mocilha: 692.5 | Mínimo do valor da Mochila:  370 | Máximo do valor da Mochila:  765\n",
      "Geração: 33  | Média do valor da Mocilha: 715.5 | Mínimo do valor da Mochila:  670 | Máximo do valor da Mochila:  765\n",
      "Geração: 34  | Média do valor da Mocilha: 710.75 | Mínimo do valor da Mochila:  670 | Máximo do valor da Mochila:  735\n",
      "Geração: 35  | Média do valor da Mocilha: 719.5 | Mínimo do valor da Mochila:  670 | Máximo do valor da Mochila:  735\n",
      "Geração: 36  | Média do valor da Mocilha: 723.25 | Mínimo do valor da Mochila:  670 | Máximo do valor da Mochila:  765\n",
      "Geração: 37  | Média do valor da Mocilha: 722.25 | Mínimo do valor da Mochila:  670 | Máximo do valor da Mochila:  735\n",
      "Geração: 38  | Média do valor da Mocilha: 722.25 | Mínimo do valor da Mochila:  670 | Máximo do valor da Mochila:  735\n",
      "Geração: 39  | Média do valor da Mocilha: 725.5 | Mínimo do valor da Mochila:  670 | Máximo do valor da Mochila:  735\n",
      "Geração: 40  | Média do valor da Mocilha: 715.5 | Mínimo do valor da Mochila:  660 | Máximo do valor da Mochila:  735\n",
      "Geração: 41  | Média do valor da Mocilha: 709.25 | Mínimo do valor da Mochila:  660 | Máximo do valor da Mochila:  735\n",
      "Geração: 42  | Média do valor da Mocilha: 716.75 | Mínimo do valor da Mochila:  660 | Máximo do valor da Mochila:  735\n",
      "Geração: 43  | Média do valor da Mocilha: 710.75 | Mínimo do valor da Mochila:  660 | Máximo do valor da Mochila:  735\n",
      "Geração: 44  | Média do valor da Mocilha: 709.75 | Mínimo do valor da Mochila:  370 | Máximo do valor da Mochila:  735\n",
      "Geração: 45  | Média do valor da Mocilha: 676.0 | Mínimo do valor da Mochila:  435 | Máximo do valor da Mochila:  735\n",
      "Geração: 46  | Média do valor da Mocilha: 662.0 | Mínimo do valor da Mochila:  370 | Máximo do valor da Mochila:  735\n",
      "Geração: 47  | Média do valor da Mocilha: 668.25 | Mínimo do valor da Mochila:  370 | Máximo do valor da Mochila:  765\n",
      "Geração: 48  | Média do valor da Mocilha: 704.25 | Mínimo do valor da Mochila:  435 | Máximo do valor da Mochila:  765\n",
      "Geração: 49  | Média do valor da Mocilha: 721.75 | Mínimo do valor da Mochila:  435 | Máximo do valor da Mochila:  765\n",
      "Geração: 50  | Média do valor da Mocilha: 718.5 | Mínimo do valor da Mochila:  465 | Máximo do valor da Mochila:  765\n",
      "Geração: 51  | Média do valor da Mocilha: 718.25 | Mínimo do valor da Mochila:  390 | Máximo do valor da Mochila:  765\n",
      "Geração: 52  | Média do valor da Mocilha: 737.75 | Mínimo do valor da Mochila:  690 | Máximo do valor da Mochila:  765\n",
      "Geração: 53  | Média do valor da Mocilha: 743.0 | Mínimo do valor da Mochila:  690 | Máximo do valor da Mochila:  765\n",
      "Geração: 54  | Média do valor da Mocilha: 704.75 | Mínimo do valor da Mochila:  670 | Máximo do valor da Mochila:  765\n",
      "Geração: 55  | Média do valor da Mocilha: 753.0 | Mínimo do valor da Mochila:  690 | Máximo do valor da Mochila:  795\n",
      "Geração: 56  | Média do valor da Mocilha: 771.0 | Mínimo do valor da Mochila:  765 | Máximo do valor da Mochila:  795\n",
      "Geração: 57  | Média do valor da Mocilha: 730.75 | Mínimo do valor da Mochila:  755 | Máximo do valor da Mochila:  795\n",
      "Geração: 58  | Média do valor da Mocilha: 694.5 | Mínimo do valor da Mochila:  765 | Máximo do valor da Mochila:  795\n",
      "Geração: 59  | Média do valor da Mocilha: 774.0 | Mínimo do valor da Mochila:  765 | Máximo do valor da Mochila:  795\n",
      "Geração: 60  | Média do valor da Mocilha: 773.25 | Mínimo do valor da Mochila:  690 | Máximo do valor da Mochila:  795\n",
      "Geração: 61  | Média do valor da Mocilha: 767.25 | Mínimo do valor da Mochila:  690 | Máximo do valor da Mochila:  795\n",
      "Geração: 62  | Média do valor da Mocilha: 765.75 | Mínimo do valor da Mochila:  690 | Máximo do valor da Mochila:  795\n",
      "Geração: 63  | Média do valor da Mocilha: 768.0 | Mínimo do valor da Mochila:  690 | Máximo do valor da Mochila:  795\n",
      "Geração: 64  | Média do valor da Mocilha: 765.75 | Mínimo do valor da Mochila:  690 | Máximo do valor da Mochila:  795\n",
      "Geração: 65  | Média do valor da Mocilha: 753.0 | Mínimo do valor da Mochila:  495 | Máximo do valor da Mochila:  795\n",
      "Geração: 66  | Média do valor da Mocilha: 766.0 | Mínimo do valor da Mochila:  690 | Máximo do valor da Mochila:  795\n",
      "Geração: 67  | Média do valor da Mocilha: 763.75 | Mínimo do valor da Mochila:  690 | Máximo do valor da Mochila:  795\n",
      "Geração: 68  | Média do valor da Mocilha: 749.75 | Mínimo do valor da Mochila:  485 | Máximo do valor da Mochila:  795\n",
      "Geração: 69  | Média do valor da Mocilha: 757.0 | Mínimo do valor da Mochila:  495 | Máximo do valor da Mochila:  795\n",
      "Geração: 70  | Média do valor da Mocilha: 772.25 | Mínimo do valor da Mochila:  690 | Máximo do valor da Mochila:  795\n",
      "Geração: 71  | Média do valor da Mocilha: 780.0 | Mínimo do valor da Mochila:  735 | Máximo do valor da Mochila:  795\n",
      "Geração: 72  | Média do valor da Mocilha: 774.0 | Mínimo do valor da Mochila:  495 | Máximo do valor da Mochila:  795\n",
      "Geração: 73  | Média do valor da Mocilha: 792.0 | Mínimo do valor da Mochila:  735 | Máximo do valor da Mochila:  795\n",
      "Geração: 74  | Média do valor da Mocilha: 790.5 | Mínimo do valor da Mochila:  735 | Máximo do valor da Mochila:  795\n",
      "Geração: 75  | Média do valor da Mocilha: 750.75 | Mínimo do valor da Mochila:  735 | Máximo do valor da Mochila:  795\n",
      "Geração: 76  | Média do valor da Mocilha: 786.75 | Mínimo do valor da Mochila:  720 | Máximo do valor da Mochila:  795\n",
      "Geração: 77  | Média do valor da Mocilha: 792.5 | Mínimo do valor da Mochila:  735 | Máximo do valor da Mochila:  805\n",
      "Geração: 78  | Média do valor da Mocilha: 792.5 | Mínimo do valor da Mochila:  735 | Máximo do valor da Mochila:  805\n",
      "Geração: 79  | Média do valor da Mocilha: 781.5 | Mínimo do valor da Mochila:  495 | Máximo do valor da Mochila:  805\n",
      "Geração: 80  | Média do valor da Mocilha: 721.0 | Mínimo do valor da Mochila:  495 | Máximo do valor da Mochila:  805\n",
      "\n",
      "Peso Máximo: 100 g\n",
      "\n",
      "Itens:\n",
      "Item 1 :  4 g | $ 30\n",
      "Item 2 :  8 g | $ 10\n",
      "Item 3 :  8 g | $ 30\n",
      "Item 4 :  25 g | $ 75\n",
      "Item 5 :  2 g | $ 10\n",
      "Item 6 :  50 g | $ 100\n",
      "Item 7 :  6 g | $ 300\n",
      "Item 8 :  12 g | $ 50\n",
      "Item 9 :  100 g | $ 400\n",
      "Item 10 :  8 g | $ 300\n",
      "\n",
      "Exemplos de uma boa solução:\n",
      "[1, 0, 1, 1, 1, 0, 1, 1, 0, 1]\n",
      "[1, 0, 1, 1, 1, 0, 0, 1, 0, 1]\n",
      "[1, 0, 1, 1, 1, 0, 0, 1, 0, 1]\n",
      "[1, 1, 1, 1, 1, 0, 1, 1, 0, 1]\n",
      "[1, 0, 1, 1, 1, 0, 1, 1, 0, 1]\n"
     ]
    }
   ],
   "source": [
    "# Histórico das Gerações\n",
    "for index, data in enumerate(fitness_history):\n",
    "    print(\"Geração:\", index, \" | Média do valor da Mocilha:\", data[0], \"| Mínimo do valor da Mochila: \", data[1], \"| Máximo do valor da Mochila: \", data[2])\n",
    "\n",
    "print(\"\\nPeso Máximo:\", max_weight, \"g\\n\\nItens:\")\n",
    "for index, item in enumerate(weights_and_values):\n",
    "    print(\"Item\", index + 1, \": \", item[0], \"g | $\", item[1])\n",
    "\n",
    "print(\"\\nExemplos de uma boa solução:\")\n",
    "for i in range(5):\n",
    "    print(population[i])\n"
   ]
  },
  {
   "cell_type": "code",
   "execution_count": null,
   "metadata": {
    "colab": {
     "base_uri": "https://localhost:8080/",
     "height": 261
    },
    "executionInfo": {
     "elapsed": 5,
     "status": "error",
     "timestamp": 1705500109989,
     "user": {
      "displayName": "Rafael Batista",
      "userId": "02193470110207597108"
     },
     "user_tz": 180
    },
    "id": "JnC7qvLyqmnz",
    "outputId": "ce02cc0d-cdd9-4239-8d15-c38ba4b07bc3"
   },
   "outputs": [
    {
     "ename": "AttributeError",
     "evalue": "'list' object has no attribute 'data'",
     "output_type": "error",
     "traceback": [
      "\u001b[0;31m---------------------------------------------------------------------------\u001b[0m",
      "\u001b[0;31mAttributeError\u001b[0m                            Traceback (most recent call last)",
      "\u001b[0;32m<ipython-input-91-8117ac384281>\u001b[0m in \u001b[0;36m<cell line: 3>\u001b[0;34m()\u001b[0m\n\u001b[1;32m      1\u001b[0m \u001b[0;31m# Gráfico\u001b[0m\u001b[0;34m\u001b[0m\u001b[0;34m\u001b[0m\u001b[0m\n\u001b[1;32m      2\u001b[0m \u001b[0;32mfrom\u001b[0m \u001b[0mmatplotlib\u001b[0m \u001b[0;32mimport\u001b[0m \u001b[0mpyplot\u001b[0m \u001b[0;32mas\u001b[0m \u001b[0mplt\u001b[0m\u001b[0;34m\u001b[0m\u001b[0;34m\u001b[0m\u001b[0m\n\u001b[0;32m----> 3\u001b[0;31m \u001b[0mplt\u001b[0m\u001b[0;34m.\u001b[0m\u001b[0mplot\u001b[0m\u001b[0;34m(\u001b[0m\u001b[0mrange\u001b[0m\u001b[0;34m(\u001b[0m\u001b[0mlen\u001b[0m\u001b[0;34m(\u001b[0m\u001b[0mfitness_history\u001b[0m\u001b[0;34m.\u001b[0m\u001b[0mdata\u001b[0m\u001b[0;34m)\u001b[0m\u001b[0;34m)\u001b[0m\u001b[0;34m,\u001b[0m \u001b[0mfitness_history\u001b[0m\u001b[0;34m)\u001b[0m\u001b[0;34m\u001b[0m\u001b[0;34m\u001b[0m\u001b[0m\n\u001b[0m\u001b[1;32m      4\u001b[0m \u001b[0mplt\u001b[0m\u001b[0;34m.\u001b[0m\u001b[0mgrid\u001b[0m\u001b[0;34m(\u001b[0m\u001b[0;32mTrue\u001b[0m\u001b[0;34m,\u001b[0m \u001b[0mzorder\u001b[0m\u001b[0;34m=\u001b[0m\u001b[0;36m0\u001b[0m\u001b[0;34m)\u001b[0m\u001b[0;34m\u001b[0m\u001b[0;34m\u001b[0m\u001b[0m\n\u001b[1;32m      5\u001b[0m \u001b[0mplt\u001b[0m\u001b[0;34m.\u001b[0m\u001b[0mtitle\u001b[0m\u001b[0;34m(\u001b[0m\u001b[0;34m\"Problema da Mochila\"\u001b[0m\u001b[0;34m)\u001b[0m\u001b[0;34m\u001b[0m\u001b[0;34m\u001b[0m\u001b[0m\n",
      "\u001b[0;31mAttributeError\u001b[0m: 'list' object has no attribute 'data'"
     ]
    }
   ],
   "source": [
    "# Gráfico\n",
    "from matplotlib import pyplot as plt\n",
    "plt.plot(range(len(fitness_history.data)), fitness_history)\n",
    "plt.grid(True, zorder=0)\n",
    "plt.title(\"Problema da Mochila\")\n",
    "plt.xlabel(\"Geração\")\n",
    "plt.ylabel(\"Média de Valor\")\n",
    "plt.show()"
   ]
  }
 ],
 "metadata": {
  "colab": {
   "authorship_tag": "ABX9TyM6Y6l1TyObzh22v9zrZuhA",
   "provenance": []
  },
  "kernelspec": {
   "display_name": "Python 3",
   "name": "python3"
  },
  "language_info": {
   "name": "python"
  }
 },
 "nbformat": 4,
 "nbformat_minor": 0
}
