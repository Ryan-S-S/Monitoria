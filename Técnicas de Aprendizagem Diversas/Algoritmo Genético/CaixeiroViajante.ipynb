{
 "cells": [
  {
   "cell_type": "markdown",
   "metadata": {
    "id": "v7zTFoMZC-ib"
   },
   "source": [
    "## Algoritmos Genéticos\n",
    "> Técnica de Computação evolucionária que serve para busca de solução para problemas de otimização.\n",
    "\n",
    "> Com inspiração em termos da biologia evolutiva, tais como a hereditaridade, seleção natural, cruzamento e mutação."
   ]
  },
  {
   "cell_type": "markdown",
   "metadata": {},
   "source": [
    "ALGORITMO GENÉTICO\n",
    "No problema do Caixeiro Viajante, temos uma lista de cidades e as distâncias entre elas; o objetivo é encontrar o menor caminho possível que passe por todas as cidades uma única vez e retorne à cidade de origem.\n",
    "Suponha que temos 5 cidades. O objetivo é encontrar o menor caminho que passe por todas as cidades uma única vez e retorne à cidade inicial. Cada indivíduo da população será representado por uma lista de inteiros (Genoma), onde cada número indica a ordem de visita das cidades. Por exemplo: indivíduo 07: [2, 0, 3, 1, 4]. Isso representa uma rota que começa pela cidade 2, depois vai para a 0, em seguida 3, 1 e termina na 4 antes de retornar à cidade inicial. Rotas que repetem cidades recebem uma penalidade.\n",
    "Nesse exemplo, as funções de seleção, reprodução (cruzamento) e mutação são realizadas por uma biblioteca chamada DEAP. Ela fornece ferramentas prontas para aplicar algoritmos genéticos, como o torneio para selecionar os melhores indivíduos, cruzamento em um ponto para gerar novos filhos e mutação aleatória em partes da rota. Essas operações são registradas e executadas automaticamente durante a evolução da população."
   ]
  },
  {
   "cell_type": "code",
   "execution_count": null,
   "metadata": {
    "colab": {
     "base_uri": "https://localhost:8080/"
    },
    "executionInfo": {
     "elapsed": 16708,
     "status": "ok",
     "timestamp": 1705488936084,
     "user": {
      "displayName": "Rafael Batista",
      "userId": "02193470110207597108"
     },
     "user_tz": 180
    },
    "id": "NfKA4TDmCNro",
    "outputId": "48df2c16-b860-47b2-e3ce-5c3e0e63ae4c"
   },
   "outputs": [],
   "source": [
    "# Importação dos módulos\n",
    "import random\n",
    "import numpy\n",
    "\n",
    "# Biblioteca\n",
    "!pip install deap\n",
    "from deap import algorithms\n",
    "from deap import base\n",
    "from deap import creator\n",
    "from deap import tools"
   ]
  },
  {
   "cell_type": "code",
   "execution_count": null,
   "metadata": {
    "colab": {
     "base_uri": "https://localhost:8080/"
    },
    "executionInfo": {
     "elapsed": 3265,
     "status": "ok",
     "timestamp": 1705489455123,
     "user": {
      "displayName": "Rafael Batista",
      "userId": "02193470110207597108"
     },
     "user_tz": 180
    },
    "id": "zRQTUk2GD4Jc",
    "outputId": "80ec2715-98fb-42a9-8538-f98fb53c510d"
   },
   "outputs": [],
   "source": [
    "# Gera a matriz de distâncias entre as cidades\n",
    "def graphTSP(numCities, minDist, maxDist):\n",
    "    cities = numpy.zeros((numCities, numCities), dtype=int)\n",
    "    for i in range(numCities):\n",
    "        for j in range(numCities):\n",
    "            if (j > i):  # Preenche apenas a parte superior da matriz com distâncias aleatórias\n",
    "                cities[i, j] = random.randint(minDist, maxDist)\n",
    "            elif (j < i):  # Copia para a parte inferior para manter simetria\n",
    "                cities[i, j] = cities[j, i]\n",
    "    return cities"
   ]
  },
  {
   "cell_type": "code",
   "execution_count": null,
   "metadata": {},
   "outputs": [],
   "source": [
    "# Número mínimo de cidades: 5\n",
    "numCities = 5\n",
    "\n",
    "# Solicita ao usuário o número de cidades até ser maior que 4\n",
    "while True:\n",
    "    numCities = int(input('Digite o número de cidades: '))\n",
    "    if (numCities > 4):\n",
    "        break\n",
    "    else:\n",
    "        print('O número de cidades deve ser maior que 4!')\n",
    "\n",
    "# Cria o grafo com distâncias aleatórias entre as cidades\n",
    "cities = graphTSP(numCities, 10, 100)\n",
    "print('Grafo:\\n', cities)"
   ]
  },
  {
   "cell_type": "code",
   "execution_count": null,
   "metadata": {
    "executionInfo": {
     "elapsed": 331,
     "status": "ok",
     "timestamp": 1705489685795,
     "user": {
      "displayName": "Rafael Batista",
      "userId": "02193470110207597108"
     },
     "user_tz": 180
    },
    "id": "hJhL_xsmFL7z"
   },
   "outputs": [],
   "source": [
    "# Definição da estrutura dos indivíduos e da população\n",
    "creator.create(\"FitnessMin\", base.Fitness, weights=(-1.0,))  # Minimizar o custo total\n",
    "creator.create(\"Individual\", list, fitness=creator.FitnessMin)\n",
    "toolbox = base.Toolbox()\n",
    "\n",
    "# Gera inteiros aleatórios representando cidades\n",
    "toolbox.register(\"attr_int\", random.randint, 0, numCities - 1)\n",
    "\n",
    "# Gera um indivíduo com uma sequência de cidades\n",
    "toolbox.register(\"individual\", tools.initRepeat, creator.Individual, toolbox.attr_int, numCities)\n",
    "\n",
    "# Gera uma população de indivíduos\n",
    "toolbox.register(\"population\", list, toolbox.individual)"
   ]
  },
  {
   "cell_type": "code",
   "execution_count": null,
   "metadata": {
    "executionInfo": {
     "elapsed": 476,
     "status": "ok",
     "timestamp": 1705489777778,
     "user": {
      "displayName": "Rafael Batista",
      "userId": "02193470110207597108"
     },
     "user_tz": 180
    },
    "id": "uUVBTSPwG9BL"
   },
   "outputs": [],
   "source": [
    "# Avalia o custo de uma rota (penaliza repetições de cidades)\n",
    "def evalRoute(individual):\n",
    "    cost = 0\n",
    "    for i in range(1, len(individual)):\n",
    "        if (individual.count(individual[i]) > 1):\n",
    "            cost += 1000000  # Penalidade para cidades repetidas\n",
    "        cost += cities[individual[i - 1], individual[i]]  # Soma a distância entre as cidades\n",
    "    cost += cities[individual[i], individual[0]]  # Fecha o ciclo voltando à cidade inicial\n",
    "    return (cost,)  # Retorna como tupla para compatibilidade com DEAP"
   ]
  },
  {
   "cell_type": "code",
   "execution_count": null,
   "metadata": {
    "colab": {
     "base_uri": "https://localhost:8080/"
    },
    "executionInfo": {
     "elapsed": 1292,
     "status": "ok",
     "timestamp": 1705492262312,
     "user": {
      "displayName": "Rafael Batista",
      "userId": "02193470110207597108"
     },
     "user_tz": 180
    },
    "id": "UwmAoc2tHMnQ",
    "outputId": "d60e1a7c-7f0d-4b07-d4ef-8b26ba3a7d63"
   },
   "outputs": [],
   "source": [
    "# Registro das funções para o algoritmo genético\n",
    "toolbox.register(\"evaluate\", evalRoute)  # Função de avaliação\n",
    "toolbox.register(\"select\", tools.selTournament, tournsize=3)  # Seleção por torneio\n",
    "toolbox.register(\"mate\", tools.cxOnePoint)  # Cruzamento por um ponto\n",
    "toolbox.register(\"mutate\", tools.mutUniformInt, low=0, up=numCities - 1, indpb=0.05)  # Mutação uniforme\n",
    "\n",
    "# Função principal\n",
    "def main():\n",
    "    print('Execução do algoritmo genético:')\n",
    "\n",
    "    random.seed(42)  # Define a semente para resultados reproduzíveis\n",
    "\n",
    "    # Parâmetros da evolução\n",
    "    NGEN = 100      # Número de gerações\n",
    "    MU = 50         # Tamanho da população\n",
    "    LAMBDA = 100    # Número de filhos gerados por geração\n",
    "    CXPB = 0.7      # Probabilidade de cruzamento\n",
    "    MUTPB = 0.3     # Probabilidade de mutação\n",
    "\n",
    "    # Gera a população inicial\n",
    "    pop = toolbox.population(n=MU)\n",
    "\n",
    "    # Hall da fama para guardar os melhores indivíduos\n",
    "    hof = tools.ParetoFront()\n",
    "\n",
    "    # Estatísticas para acompanhar o progresso\n",
    "    stats = tools.Statistics(lambda ind: ind.fitness.values)\n",
    "    stats.register(\"avg\", numpy.mean, axis=0)\n",
    "    stats.register(\"std\", numpy.std, axis=0)\n",
    "    stats.register(\"min\", numpy.min, axis=0)\n",
    "    stats.register(\"max\", numpy.max, axis=0)\n",
    "\n",
    "    # Executa o algoritmo genético usando o modelo (μ + λ)\n",
    "    algorithms.eaMuPlusLambda(\n",
    "        pop, toolbox, MU, LAMBDA, CXPB, MUTPB, NGEN, stats,\n",
    "        halloffame=hof\n",
    "    )\n",
    "\n",
    "    # Exibe a melhor rota encontrada e seu custo\n",
    "    print('\\nRota:', hof[0], '\\nCusto:', evalRoute(hof[0])[0])\n",
    "    return pop, stats, hof\n",
    "\n",
    "# Ponto de entrada do programa\n",
    "if __name__ == \"__main__\":\n",
    "    main()"
   ]
  }
 ],
 "metadata": {
  "colab": {
   "authorship_tag": "ABX9TyPf4QbezYBU1knt+oAGPIxh",
   "provenance": []
  },
  "kernelspec": {
   "display_name": "Python 3",
   "name": "python3"
  },
  "language_info": {
   "name": "python"
  }
 },
 "nbformat": 4,
 "nbformat_minor": 0
}
