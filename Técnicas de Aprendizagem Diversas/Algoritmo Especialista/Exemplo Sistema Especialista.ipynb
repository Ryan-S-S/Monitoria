{
 "cells": [
  {
   "cell_type": "markdown",
   "metadata": {
    "id": "SWUPxnM-c5r5"
   },
   "source": [
    "## **Sistema de Diagnostico**\n",
    "> Um exemplo simples de aplicação de Sintomas para **diagnostico médico**\n",
    "\n",
    "> Utilizando a biblioteca Experta."
   ]
  },
  {
   "cell_type": "code",
   "execution_count": null,
   "metadata": {
    "colab": {
     "base_uri": "https://localhost:8080/"
    },
    "collapsed": true,
    "executionInfo": {
     "elapsed": 20151,
     "status": "ok",
     "timestamp": 1743516977732,
     "user": {
      "displayName": "Ryan Souza Santana",
      "userId": "06894951986616193054"
     },
     "user_tz": 180
    },
    "id": "BW1PfypGI_jx",
    "outputId": "cef4ca7e-570c-4360-fb71-aacbc9f1f916"
   },
   "outputs": [
    {
     "name": "stdout",
     "output_type": "stream",
     "text": [
      "Requirement already satisfied: pip in /usr/local/lib/python3.11/dist-packages (24.1.2)\n",
      "Collecting pip\n",
      "  Downloading pip-25.0.1-py3-none-any.whl.metadata (3.7 kB)\n",
      "Downloading pip-25.0.1-py3-none-any.whl (1.8 MB)\n",
      "\u001b[2K   \u001b[90m━━━━━━━━━━━━━━━━━━━━━━━━━━━━━━━━━━━━━━━━\u001b[0m \u001b[32m1.8/1.8 MB\u001b[0m \u001b[31m15.4 MB/s\u001b[0m eta \u001b[36m0:00:00\u001b[0m\n",
      "\u001b[?25hInstalling collected packages: pip\n",
      "  Attempting uninstall: pip\n",
      "    Found existing installation: pip 24.1.2\n",
      "    Uninstalling pip-24.1.2:\n",
      "      Successfully uninstalled pip-24.1.2\n",
      "Successfully installed pip-25.0.1\n",
      "Collecting experta\n",
      "  Downloading experta-1.9.4-py3-none-any.whl.metadata (5.0 kB)\n",
      "Collecting frozendict==1.2 (from experta)\n",
      "  Downloading frozendict-1.2.tar.gz (2.6 kB)\n",
      "  Preparing metadata (setup.py) ... \u001b[?25l\u001b[?25hdone\n",
      "Collecting schema==0.6.7 (from experta)\n",
      "  Downloading schema-0.6.7-py2.py3-none-any.whl.metadata (14 kB)\n",
      "Downloading experta-1.9.4-py3-none-any.whl (35 kB)\n",
      "Downloading schema-0.6.7-py2.py3-none-any.whl (14 kB)\n",
      "Building wheels for collected packages: frozendict\n",
      "  Building wheel for frozendict (setup.py) ... \u001b[?25l\u001b[?25hdone\n",
      "  Created wheel for frozendict: filename=frozendict-1.2-py3-none-any.whl size=3149 sha256=35b5b2b801ab2268d26c2efa003e55809968d57d699740564ce7a16d13852455\n",
      "  Stored in directory: /root/.cache/pip/wheels/49/ac/f8/cb8120244e710bdb479c86198b03c7b08c3c2d3d2bf448fd6e\n",
      "Successfully built frozendict\n",
      "Installing collected packages: schema, frozendict, experta\n",
      "  Attempting uninstall: frozendict\n",
      "    Found existing installation: frozendict 2.4.6\n",
      "    Uninstalling frozendict-2.4.6:\n",
      "      Successfully uninstalled frozendict-2.4.6\n",
      "\u001b[31mERROR: pip's dependency resolver does not currently take into account all the packages that are installed. This behaviour is the source of the following dependency conflicts.\n",
      "yfinance 0.2.55 requires frozendict>=2.3.4, but you have frozendict 1.2 which is incompatible.\u001b[0m\u001b[31m\n",
      "\u001b[0mSuccessfully installed experta-1.9.4 frozendict-1.2 schema-0.6.7\n",
      "Requirement already satisfied: frozendict in /usr/local/lib/python3.11/dist-packages (1.2)\n",
      "Collecting frozendict\n",
      "  Downloading frozendict-2.4.6-py311-none-any.whl.metadata (23 kB)\n",
      "Downloading frozendict-2.4.6-py311-none-any.whl (16 kB)\n",
      "Installing collected packages: frozendict\n",
      "  Attempting uninstall: frozendict\n",
      "    Found existing installation: frozendict 1.2\n",
      "    Uninstalling frozendict-1.2:\n",
      "      Successfully uninstalled frozendict-1.2\n",
      "\u001b[31mERROR: pip's dependency resolver does not currently take into account all the packages that are installed. This behaviour is the source of the following dependency conflicts.\n",
      "experta 1.9.4 requires frozendict==1.2, but you have frozendict 2.4.6 which is incompatible.\u001b[0m\u001b[31m\n",
      "\u001b[0mSuccessfully installed frozendict-2.4.6\n"
     ]
    }
   ],
   "source": [
    "!pip install --upgrade pip\n",
    "!pip install experta\n",
    "!pip install --upgrade frozendict\n",
    "\n",
    "from experta import *"
   ]
  },
  {
   "cell_type": "code",
   "execution_count": null,
   "metadata": {
    "id": "W44T-RUDCy7z"
   },
   "outputs": [],
   "source": [
    "class Sintoma(Fact):    pass\n",
    "    # Classe puramente estetica\n",
    "    # Sem ela, teriamos que escrever Fact(...)\n",
    "\n",
    "# Classe que vai comportar nossa base de conhecimento\n",
    "class DiagnosticoDoenca(KnowledgeEngine):\n",
    "#---------------------------------------------------------\n",
    "    # Gripe: Febre + Tosse\n",
    "    @Rule(Sintoma(\"febre\"),\n",
    "          Sintoma(\"tosse\"))\n",
    "\n",
    "    def diagnostico_gripe(self):\n",
    "        print(\"Diagnóstico: Possível Gripe. Busque repouso\")\n",
    "#---------------------------------------------------------\n",
    "    # Dengue: Febre + Dor no corpo + não há icterícia\n",
    "    @Rule(AND(Sintoma(\"febre\"),\n",
    "              Sintoma(\"dor no corpo\"),\n",
    "              Sintoma(\"vomitos\"),\n",
    "              NOT(Sintoma(\"ictericia\"))))\n",
    "    def diagnostico_dengue(self):\n",
    "        print(\"Diagnóstico: Possível Dengue. Atenção à hidratação.\")\n",
    "#---------------------------------------------------------\n",
    "    # Febre Amarela: Febre + Dor no corpo + Icterícia\n",
    "    @Rule(AND(Sintoma(\"febre\"),\n",
    "              Sintoma(\"dor no corpo\"),\n",
    "              Sintoma(\"vomitos\"),\n",
    "              Sintoma(\"ictericia\")))\n",
    "    def diagnostico_febre_amarela(self):\n",
    "        print(\"Diagnóstico: Possível Febre Amarela. Procure atendimento urgente!\")\n",
    "#---------------------------------------------------------\n",
    "    # Chikungunya: Febre + (Dor no corpo ou Dor nas articulações)\n",
    "    @Rule(AND(Sintoma(\"febre\"),\n",
    "              OR(Sintoma(\"dor no corpo\"),\n",
    "                 Sintoma(\"dor nas articulacoes\")),\n",
    "              NOT(Sintoma(\"vomitos\"))))\n",
    "    def diagnostico_chikungunya(self):\n",
    "        print(\"Diagnóstico: Possível Chikungunya. Pode causar dores prolongadas.\")"
   ]
  },
  {
   "cell_type": "code",
   "execution_count": null,
   "metadata": {
    "id": "6RRhJF4eI6g8"
   },
   "outputs": [],
   "source": [
    "# Criar o motor de inferência\n",
    "diagnostico = DiagnosticoDoenca()\n",
    "\n",
    "diagnostico.reset()  # Resetar a base de conhecimento"
   ]
  },
  {
   "cell_type": "code",
   "execution_count": null,
   "metadata": {
    "colab": {
     "base_uri": "https://localhost:8080/"
    },
    "executionInfo": {
     "elapsed": 12,
     "status": "ok",
     "timestamp": 1743516977812,
     "user": {
      "displayName": "Ryan Souza Santana",
      "userId": "06894951986616193054"
     },
     "user_tz": 180
    },
    "id": "b7sBjM1tI885",
    "outputId": "d0cc64d7-9ce0-492d-b16b-6dda657dfed9"
   },
   "outputs": [
    {
     "name": "stdout",
     "output_type": "stream",
     "text": [
      "Diagnóstico: Possível Dengue. Atenção à hidratação.\n"
     ]
    }
   ],
   "source": [
    "diagnostico.reset()\n",
    "diagnostico.declare(Sintoma(\"febre\"))\n",
    "diagnostico.declare(Sintoma(\"dor no corpo\"))\n",
    "diagnostico.declare(Sintoma(\"vomitos\"))\n",
    "\n",
    "diagnostico.run()  # Executar o motor de inferência\n"
   ]
  },
  {
   "cell_type": "code",
   "execution_count": null,
   "metadata": {
    "colab": {
     "base_uri": "https://localhost:8080/"
    },
    "collapsed": true,
    "executionInfo": {
     "elapsed": 10,
     "status": "ok",
     "timestamp": 1743516992433,
     "user": {
      "displayName": "Ryan Souza Santana",
      "userId": "06894951986616193054"
     },
     "user_tz": 180
    },
    "id": "sduUfj5hR9B6",
    "outputId": "9d6f8a86-d36f-4500-c849-cc49ae840b70"
   },
   "outputs": [
    {
     "name": "stdout",
     "output_type": "stream",
     "text": [
      "Diagnóstico: Possível Febre Amarela. Procure atendimento urgente!\n"
     ]
    }
   ],
   "source": [
    "diagnostico.reset()\n",
    "diagnostico.declare(Sintoma(\"febre\"))\n",
    "diagnostico.declare(Sintoma(\"dor no corpo\"))\n",
    "diagnostico.declare(Sintoma(\"vomitos\"))\n",
    "diagnostico.declare(Sintoma(\"ictericia\"))\n",
    "\n",
    "diagnostico.run()  # Executar o motor de inferência\n"
   ]
  },
  {
   "cell_type": "code",
   "execution_count": null,
   "metadata": {
    "colab": {
     "base_uri": "https://localhost:8080/"
    },
    "executionInfo": {
     "elapsed": 10,
     "status": "ok",
     "timestamp": 1743517004465,
     "user": {
      "displayName": "Ryan Souza Santana",
      "userId": "06894951986616193054"
     },
     "user_tz": 180
    },
    "id": "irLpndeKOy7N",
    "outputId": "69245621-3d57-4843-c2dc-4d3979d0d038"
   },
   "outputs": [
    {
     "name": "stdout",
     "output_type": "stream",
     "text": [
      "Diagnóstico: Possível Chikungunya. Pode causar dores prolongadas.\n"
     ]
    }
   ],
   "source": [
    "diagnostico.reset()\n",
    "diagnostico.declare(Sintoma(\"febre\"))\n",
    "diagnostico.declare(Sintoma(\"dor nas articulacoes\"))\n",
    "\n",
    "diagnostico.run()  # Executar o motor de inferência"
   ]
  },
  {
   "cell_type": "code",
   "execution_count": null,
   "metadata": {
    "colab": {
     "base_uri": "https://localhost:8080/"
    },
    "executionInfo": {
     "elapsed": 36,
     "status": "ok",
     "timestamp": 1743517042894,
     "user": {
      "displayName": "Ryan Souza Santana",
      "userId": "06894951986616193054"
     },
     "user_tz": 180
    },
    "id": "reJs80FcPBn7",
    "outputId": "c0cf444e-0284-47c7-d3c7-b55d154c7cfe"
   },
   "outputs": [
    {
     "name": "stdout",
     "output_type": "stream",
     "text": [
      "Diagnóstico: Possível Chikungunya. Pode causar dores prolongadas.\n",
      "Diagnóstico: Possível Gripe. Busque repouso\n"
     ]
    }
   ],
   "source": [
    "diagnostico.reset()\n",
    "diagnostico.declare(Sintoma(\"febre\"))\n",
    "diagnostico.declare(Sintoma(\"tosse\"))\n",
    "\n",
    "\n",
    "diagnostico.run()  # Executar o motor de inferência\n"
   ]
  }
 ],
 "metadata": {
  "colab": {
   "authorship_tag": "ABX9TyNYeM0Z9OcchJBdEozBqs3/",
   "provenance": []
  },
  "kernelspec": {
   "display_name": "Python 3",
   "name": "python3"
  },
  "language_info": {
   "name": "python"
  }
 },
 "nbformat": 4,
 "nbformat_minor": 0
}
