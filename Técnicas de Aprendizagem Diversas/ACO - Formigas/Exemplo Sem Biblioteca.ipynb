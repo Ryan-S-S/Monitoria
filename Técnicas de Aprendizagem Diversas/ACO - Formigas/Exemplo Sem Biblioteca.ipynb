{
 "cells": [
  {
   "cell_type": "code",
   "execution_count": 76,
   "metadata": {
    "executionInfo": {
     "elapsed": 9,
     "status": "ok",
     "timestamp": 1705323452164,
     "user": {
      "displayName": "Rafael Batista",
      "userId": "02193470110207597108"
     },
     "user_tz": 180
    },
    "id": "YhfmmbycLWEf"
   },
   "outputs": [],
   "source": [
    "import numpy as np\n",
    "from numpy import inf\n",
    "\n",
    "# Valores do Problema\n",
    "d = np.array([[0,10,12,11,14]\n",
    "          ,[10,0,13,15,8]\n",
    "          ,[12,13,0,9,14]\n",
    "          ,[11,15,9,0,16]\n",
    "          ,[14,8,14,16,0]])\n",
    "\n",
    "# Configurando variáveis\n",
    " # (Iterações, Número de formigas, número de cidades, evaporação )\n",
    "iteration = 100\n",
    "n_ants = 5  #m\n",
    "n_citys = 5 #n\n",
    "evaporation = 0.5\n",
    "alpha = 1\n",
    "beta = 2"
   ]
  },
  {
   "cell_type": "code",
   "execution_count": 77,
   "metadata": {
    "colab": {
     "base_uri": "https://localhost:8080/"
    },
    "executionInfo": {
     "elapsed": 333,
     "status": "ok",
     "timestamp": 1705323495412,
     "user": {
      "displayName": "Rafael Batista",
      "userId": "02193470110207597108"
     },
     "user_tz": 180
    },
    "id": "7tv6Egm3L7Gk",
    "outputId": "41e3007f-771a-4227-fd55-35682004307b"
   },
   "outputs": [
    {
     "name": "stderr",
     "output_type": "stream",
     "text": [
      "C:\\Users\\pc\\AppData\\Local\\Temp\\ipykernel_9640\\2113696052.py:2: RuntimeWarning: divide by zero encountered in divide\n",
      "  visibility = 1/d\n"
     ]
    }
   ],
   "source": [
    "# Calculando a visibilidade da próxima visibilidade da cidade(i,j)=1/d(i,j)\n",
    "visibility = 1/d\n",
    "visibility[visibility == inf] = 0"
   ]
  },
  {
   "cell_type": "code",
   "execution_count": 78,
   "metadata": {
    "executionInfo": {
     "elapsed": 7,
     "status": "ok",
     "timestamp": 1705323650722,
     "user": {
      "displayName": "Rafael Batista",
      "userId": "02193470110207597108"
     },
     "user_tz": 180
    },
    "id": "uoQxY2AzMtPF"
   },
   "outputs": [],
   "source": [
    "# Inicializando feromonios no caminho das cidades\n",
    "pheromne = .1*np.ones((n_ants,n_citys))\n",
    "\n",
    "# Inicializando a rota das formigas com tamanho rute(n_ants,n_citys+1)\n",
    "rute = np.ones((n_ants,n_citys+1))"
   ]
  },
  {
   "cell_type": "code",
   "execution_count": 79,
   "metadata": {
    "colab": {
     "base_uri": "https://localhost:8080/"
    },
    "executionInfo": {
     "elapsed": 8,
     "status": "ok",
     "timestamp": 1705323817026,
     "user": {
      "displayName": "Rafael Batista",
      "userId": "02193470110207597108"
     },
     "user_tz": 180
    },
    "id": "W56sNGeQNg5E",
    "outputId": "756bc4a8-7c19-4394-f9b6-b3fb7ceb0383"
   },
   "outputs": [
    {
     "name": "stderr",
     "output_type": "stream",
     "text": [
      "C:\\Users\\pc\\AppData\\Local\\Temp\\ipykernel_9640\\58024490.py:66: DeprecationWarning: Conversion of an array with ndim > 0 to a scalar is deprecated, and will error in future. Ensure you extract a single element from your array before performing this operation. (Deprecated NumPy 1.25.)\n",
      "  pheromne[int(rute_opt[i,j])-1,int(rute_opt[i,j+1])-1] = pheromne[int(rute_opt[i,j])-1,int(rute_opt[i,j+1])-1] + dt\n"
     ]
    }
   ],
   "source": [
    "for ite in range(iteration):\n",
    "\n",
    "    rute[:,0] = 1\n",
    "\n",
    "    for i in range(n_ants):\n",
    "\n",
    "        temp_visibility = np.array(visibility)\n",
    "\n",
    "        for j in range(n_citys-1):\n",
    "            #print(rute)\n",
    "\n",
    "            combine_feature = np.zeros(5)\n",
    "            cum_prob = np.zeros(5)\n",
    "\n",
    "            cur_loc = int(rute[i,j]-1)\n",
    "\n",
    "            temp_visibility[:,cur_loc] = 0\n",
    "\n",
    "            p_feature = np.power(pheromne[cur_loc,:],beta)\n",
    "            v_feature = np.power(temp_visibility[cur_loc,:],alpha)\n",
    "\n",
    "            p_feature = p_feature[:,np.newaxis]\n",
    "            v_feature = v_feature[:,np.newaxis]\n",
    "\n",
    "            combine_feature = np.multiply(p_feature,v_feature)\n",
    "\n",
    "            total = np.sum(combine_feature)\n",
    "\n",
    "            probs = combine_feature/total\n",
    "\n",
    "            cum_prob = np.cumsum(probs)\n",
    "            #print(cum_prob)\n",
    "            r = np.random.random_sample()\n",
    "            #print(r)\n",
    "            city = np.nonzero(cum_prob>r)[0][0]+1\n",
    "            #print(city)\n",
    "\n",
    "            rute[i,j+1] = city\n",
    "\n",
    "        left = list(set([i for i in range(1,n_citys+1)])-set(rute[i,:-2]))[0]\n",
    "\n",
    "        rute[i,-2] = left\n",
    "\n",
    "    rute_opt = np.array(rute)\n",
    "\n",
    "    dist_cost = np.zeros((n_ants,1))\n",
    "\n",
    "    for i in range(n_ants):\n",
    "\n",
    "        s = 0\n",
    "        for j in range(n_citys-1):\n",
    "\n",
    "            s = s + d[int(rute_opt[i,j])-1,int(rute_opt[i,j+1])-1]\n",
    "\n",
    "        dist_cost[i]=s\n",
    "\n",
    "    dist_min_loc = np.argmin(dist_cost)\n",
    "    dist_min_cost = dist_cost[dist_min_loc]\n",
    "\n",
    "    best_route = rute[dist_min_loc,:]\n",
    "    pheromne = (1-evaporation)*pheromne\n",
    "\n",
    "    for i in range(n_ants):\n",
    "        for j in range(n_citys-1):\n",
    "            dt = 1/dist_cost[i]\n",
    "            pheromne[int(rute_opt[i,j])-1,int(rute_opt[i,j+1])-1] = pheromne[int(rute_opt[i,j])-1,int(rute_opt[i,j+1])-1] + dt"
   ]
  },
  {
   "cell_type": "code",
   "execution_count": 80,
   "metadata": {},
   "outputs": [
    {
     "name": "stdout",
     "output_type": "stream",
     "text": [
      "route of all the ants at the end :\n",
      "[[1. 2. 5. 4. 3. 1.]\n",
      " [1. 2. 5. 4. 3. 1.]\n",
      " [1. 2. 5. 4. 3. 1.]\n",
      " [1. 2. 5. 4. 3. 1.]\n",
      " [1. 2. 5. 4. 3. 1.]]\n",
      "\n",
      "best path : [1. 2. 5. 4. 3. 1.]\n",
      "cost of the best path 55\n"
     ]
    }
   ],
   "source": [
    "print('route of all the ants at the end :')\n",
    "print(rute_opt)\n",
    "print()\n",
    "print('best path :',best_route)\n",
    "print('cost of the best path',int(dist_min_cost[0]) + d[int(best_route[-2])-1,0])"
   ]
  }
 ],
 "metadata": {
  "colab": {
   "authorship_tag": "ABX9TyNRt0XAZx49BDXTTHQFdFPH",
   "provenance": []
  },
  "kernelspec": {
   "display_name": "env",
   "language": "python",
   "name": "python3"
  },
  "language_info": {
   "codemirror_mode": {
    "name": "ipython",
    "version": 3
   },
   "file_extension": ".py",
   "mimetype": "text/x-python",
   "name": "python",
   "nbconvert_exporter": "python",
   "pygments_lexer": "ipython3",
   "version": "3.13.3"
  }
 },
 "nbformat": 4,
 "nbformat_minor": 0
}
