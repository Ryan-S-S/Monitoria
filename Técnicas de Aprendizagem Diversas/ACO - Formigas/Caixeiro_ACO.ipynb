{
  "nbformat": 4,
  "nbformat_minor": 0,
  "metadata": {
    "colab": {
      "provenance": []
    },
    "kernelspec": {
      "name": "python3",
      "display_name": "Python 3"
    },
    "language_info": {
      "name": "python"
    }
  },
  "cells": [
    {
      "cell_type": "markdown",
      "metadata": {
        "id": "dvmxaw69_jKV"
      },
      "source": [
        "# **Otimização por Colônia de Formigas**\n",
        "> A Otimização por Colônia de Formigas, *Ant Colony Optimization* - ACO, é uma técnica inspirada na busca por fonte de alimento realizada por colônias de formigas, a qual é aplicada a problemas discretos de otimização.\n",
        "\n",
        "> A metáfora central da ACO reside no mecanismo de comunicação indireta através de sinais químicos (feromônios), empregado por muitas espécies de formigas sociais, na busca por fontes de alimentos. As formigas buscam aleatoriamente por fontes de alimento próximas aos seus ninhos, sendo que a “força” da trilha de feromônio cresce rapidamente para fontes próximas e para trilhas mais curtas. As trilhas surgem ao longo do tempo, como uma memória coletiva, formando uma rota entre a colônia e a fonte de alimento (Figura 1).\n",
        "\n",
        "Figura 1. Depósito de feromônio entre o ninho (N) e a fonte de alimento (F)\n",
        "\n",
        "<img src=\"https://drive.google.com/uc?id=1oCFZzpApf-ctuWxZ_ZiqmcinVMr3UvDC\" width=\"500\">\n",
        "\n",
        "> O presente notebook colab, pretende introduzir à ACO. A codificação foi baseada na biblioteca ACO-Pants e nos exemplos disponíveis em {1}.\n",
        ">* Abaixo podemos visualizar a importação dos pacotes e módulos necessários.\n",
        "---\n",
        "{1} ACO-Pants. A Python3 implementation of the Ant Colony Optimization Meta-Heuristic. Disponível em: https://pypi.org/project/ACO-Pants/. Acesso em: 5 abr 2021."
      ]
    },
    {
      "cell_type": "code",
      "metadata": {
        "colab": {
          "base_uri": "https://localhost:8080/"
        },
        "id": "c7qsyqJC_YMV",
        "outputId": "32451f18-c0ac-4940-e681-1f5d45d3f83d"
      },
      "source": [
        "#[1] Importando pacotes e módulos\n",
        "\n",
        "!pip install ACO-Pants # Instalação de ACO-Pants\n",
        "\n",
        "import pants\n",
        "import math\n",
        "import random\n",
        "import numpy"
      ],
      "execution_count": null,
      "outputs": [
        {
          "output_type": "stream",
          "name": "stdout",
          "text": [
            "Collecting ACO-Pants\n",
            "  Downloading ACO-Pants-0.5.2.tar.gz (15 kB)\n",
            "  Preparing metadata (setup.py) ... \u001b[?25l\u001b[?25hdone\n",
            "Building wheels for collected packages: ACO-Pants\n",
            "  Building wheel for ACO-Pants (setup.py) ... \u001b[?25l\u001b[?25hdone\n",
            "  Created wheel for ACO-Pants: filename=ACO_Pants-0.5.2-py3-none-any.whl size=18840 sha256=602b1f3d8f47fdfa26592a904f5797341681512d88cab7a68a911d0975f0bc83\n",
            "  Stored in directory: /root/.cache/pip/wheels/67/2d/eb/6b998bf9d6c81e3b2a840ffb9b8afb3d93a7568f6e14fa426f\n",
            "Successfully built ACO-Pants\n",
            "Installing collected packages: ACO-Pants\n",
            "Successfully installed ACO-Pants-0.5.2\n"
          ]
        }
      ]
    },
    {
      "cell_type": "markdown",
      "metadata": {
        "id": "YJrqb9x3KtqW"
      },
      "source": [
        "#**Seleção e Formulação do Problema**\n",
        "> O primeiro passo para utilizar a ACO é mapear o problema selecionado para um grafo no qual a rota (trilha mais forte de feromônios) representa a solução do problema. A tarefa é encontrar um caminho ótimo através do grafo.\n",
        "\n",
        "> Dessa forma, nada mais natural do que escolher o clássico **Problema do Caixeiro Viajante**. O **Problema do Caixeiro Viajante**, ou *Travelling Salesman Problem*, reside no objetivo de encontrar a menor rota possível para visitar um conjunto de cidades, passando por cada uma delas uma única vez, e retornar à origem.\n",
        "* O espaço de estados para esse problema pode ser representado por um grafo completamente conexo. Os vértices são as cidades e as arestas representam vias entre cidades, havendo uma distância (custo) associada.\n",
        "* O trecho de código abaixo gera um grafo para o problema do caixeiro viajante.\n",
        "  * O usuário pode escolher o número de cidades;\n",
        "  * O grafo é gerado em uma matriz bidimensional, sendo as distâncias valores inteiros aleatórios no intervalo [10, 100].\n"
      ]
    },
    {
      "cell_type": "code",
      "metadata": {
        "colab": {
          "base_uri": "https://localhost:8080/"
        },
        "id": "LSV2q3OGMWaO",
        "outputId": "0392e912-8630-4b28-e941-2b07d73eaab1"
      },
      "source": [
        "#[2] Geração do grafo para o problema do caixeiro\n",
        "\n",
        "# função graphTSP(numCities, minDist, maxDist)\n",
        "# parâmetros:\n",
        "#   numCities: número de cities\n",
        "#   minDist: menor valor de distância\n",
        "#   maxDist: maior valor de distância\n",
        "# retorno:\n",
        "#   cities: grafo de cidades (Matriz numCities X numCities). As distância\n",
        "#   entre duas cidades são determinadas aleatoriamente entre minDist e maxDist\n",
        "def graphTSP(numCities, minDist, maxDist):\n",
        "  cities = numpy.zeros((numCities, numCities), dtype = int)\n",
        "  for i in range(numCities):\n",
        "    for j in range(numCities):\n",
        "      if (j>i):\n",
        "        cities[i, j] = random.randint(minDist, maxDist)\n",
        "      elif (j<i):\n",
        "        cities[i, j] = cities[j, i]\n",
        "  return cities\n",
        "\n",
        "numCities = 5     #  Número de cidade inicial\n",
        "\n",
        "while(True):\n",
        "  numCities = int(input('Digite o número de cidades: '))\n",
        "  if (numCities > 4):\n",
        "    break\n",
        "  else:\n",
        "    print('O número de cidades deve ser maior que 4!')\n",
        "\n",
        "cities = graphTSP(numCities, 10, 100)\n",
        "\n",
        "# Função dist(cid1, cid2):\n",
        "# parâmetros:\n",
        "#   cid1: cidade de origem (vértice de origem)\n",
        "#   cid2: cidade de destino (vértice de destino)\n",
        "# retorno:\n",
        "#   dist = distância entre as cidades (custo da aresta)\n",
        "def dist(cid1, cid2):\n",
        "  return cities[cid1][cid2]\n",
        "\n",
        "print('cidades:')\n",
        "print(cities)"
      ],
      "execution_count": null,
      "outputs": [
        {
          "output_type": "stream",
          "name": "stdout",
          "text": [
            "Digite o número de cidades: 10\n",
            "cidades:\n",
            "[[ 0 61 96 37 25 42 21 56 71 94]\n",
            " [61  0 68 52 30 84 46 37 57 70]\n",
            " [96 68  0 23 51 15 39 69 72 81]\n",
            " [37 52 23  0 28 77 98 62 32 27]\n",
            " [25 30 51 28  0 45 45 56 12 91]\n",
            " [42 84 15 77 45  0 41 40 72 23]\n",
            " [21 46 39 98 45 41  0 59 56 30]\n",
            " [56 37 69 62 56 40 59  0 21 90]\n",
            " [71 57 72 32 12 72 56 21  0 28]\n",
            " [94 70 81 27 91 23 30 90 28  0]]\n"
          ]
        }
      ]
    },
    {
      "cell_type": "markdown",
      "metadata": {
        "id": "vwvhtdFuOEFv"
      },
      "source": [
        "#**Processamento da ACO**\n",
        "> A Figura 2 apresenta o pseudocódigo simplifica do algoritmo da ACO. Em cada iteração do algoritmo o feromônio em cada aresta, além de atualizado com o depósito, sofre evaporação.\n",
        "\n",
        "Figura 2. Pseudocódigo da ACO\n",
        "\n",
        "<img src=\"https://drive.google.com/uc?id=1gjVPxanOnvi4Pyge86hZzlJCgzzqbMG9\" width=\"700\">\n",
        "\n",
        ">No pacote ACO-Pants, esse processamento do algoritmo é transparente ao usuário."
      ]
    },
    {
      "cell_type": "code",
      "metadata": {
        "colab": {
          "base_uri": "https://localhost:8080/"
        },
        "id": "o660WUMlOFrZ",
        "outputId": "c2ce415b-99e0-4857-9baa-5b20f9408b52"
      },
      "source": [
        "#[3] Representação do mundo e processamento do algoritmo\n",
        "nodes = list(range(numCities))\n",
        "\n",
        "# Cria a representação do mundo (world) a partir dos nós (nodes) e função de distância (dist)\n",
        "world = pants.World(nodes, dist)\n",
        "\n",
        "# Cria o Solver\n",
        "solver = pants.Solver()\n",
        "\n",
        "# Busca pela melhor solução (Processamento do Algoritmo)\n",
        "solution = solver.solve(world)\n",
        "\n",
        "print('Caminho:', solution.tour)    # Nós visitados\n",
        "print('Custo Total:', solution.distance) # Custo do melhor caminho encontrado"
      ],
      "execution_count": null,
      "outputs": [
        {
          "output_type": "stream",
          "name": "stdout",
          "text": [
            "Caminho: [6, 9, 5, 2, 3, 8, 7, 1, 4, 0]\n",
            "Custo Total: 257\n"
          ]
        }
      ]
    }
  ]
}