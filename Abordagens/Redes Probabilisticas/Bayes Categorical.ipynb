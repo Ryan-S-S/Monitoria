{
 "cells": [
  {
   "cell_type": "code",
   "execution_count": null,
   "id": "dd0e7d46",
   "metadata": {
    "vscode": {
     "languageId": "plaintext"
    }
   },
   "outputs": [],
   "source": [
    "import numpy as np\n",
    "from sklearn.preprocessing import OrdinalEncoder\n",
    "from sklearn.naive_bayes import CategoricalNB"
   ]
  },
  {
   "cell_type": "code",
   "execution_count": null,
   "id": "ae6b3a1d",
   "metadata": {
    "vscode": {
     "languageId": "plaintext"
    }
   },
   "outputs": [],
   "source": [
    "# Dados de entrada (tempo, umidade)\n",
    "X = [\n",
    "    [\"ensolarado\", \"alta\"],\n",
    "    [\"ensolarado\", \"alta\"],\n",
    "    [\"nublado\", \"alta\"],\n",
    "    [\"chuvoso\", \"normal\"],\n",
    "    [\"chuvoso\", \"normal\"],\n",
    "    [\"chuvoso\", \"alta\"],\n",
    "    [\"nublado\", \"normal\"],\n",
    "    [\"ensolarado\", \"normal\"],\n",
    "    [\"ensolarado\", \"normal\"],\n",
    "    [\"chuvoso\", \"normal\"],\n",
    "]\n",
    "\n",
    "# Variavel alvo (se vai jogar futebol)\n",
    "y = [\"não\", \"não\", \"sim\", \"sim\", \"sim\", \"não\", \"sim\", \"sim\", \"sim\", \"sim\"]"
   ]
  },
  {
   "cell_type": "code",
   "execution_count": null,
   "id": "d90f9bb2",
   "metadata": {
    "vscode": {
     "languageId": "plaintext"
    }
   },
   "outputs": [],
   "source": [
    "# Codifica os dados categoricos em numeros\n",
    "encoder = OrdinalEncoder()\n",
    "X_encoded = encoder.fit_transform(X)\n",
    "\n",
    "# Codifica os labels tambem (sim = 1, não = 0)\n",
    "y_encoded = np.array([1 if i == \"sim\" else 0 for i in y])"
   ]
  },
  {
   "cell_type": "code",
   "execution_count": null,
   "id": "0e976a80",
   "metadata": {
    "vscode": {
     "languageId": "plaintext"
    }
   },
   "outputs": [],
   "source": [
    "# Cria e treina o modelo\n",
    "modelo = CategoricalNB()\n",
    "modelo.fit(X_encoded, y_encoded)\n",
    "\n",
    "# Preve um novo exemplo\n",
    "exemplo = [[\"nublado\", \"alta\"]]\n",
    "exemplo_encoded = encoder.transform(exemplo)\n",
    "prev = modelo.predict(exemplo_encoded)\n",
    "\n",
    "print(f\"Previsão para {exemplo[0]}: {'sim' if prev[0] == 1 else 'não'}\")\n"
   ]
  }
 ],
 "metadata": {
  "language_info": {
   "name": "python"
  }
 },
 "nbformat": 4,
 "nbformat_minor": 5
}
